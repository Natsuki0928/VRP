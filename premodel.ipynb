{
 "cells": [
  {
   "cell_type": "markdown",
   "metadata": {},
   "source": [
    "### PVRP（期間配車計画問題）"
   ]
  },
  {
   "cell_type": "markdown",
   "metadata": {},
   "source": [
    "## 定式化\n",
    "\n",
    "$$\n",
    "minimize \\sum_{ij}^{}c_{ij}x_{ijt} \\quad　(i<j)\n",
    "$$\n",
    "\n",
    "$$\n",
    "s. t \\sum_{j}^{}x_{0jt}\\quad <= 2m   \\quad\\forall{t}\\in{T})\n",
    "$$\n",
    "\n",
    "$$\n",
    " \\sum_{i}^{}x_{ijt}+\\sum_{j}^{}x_{jit} = 2\\sum_{p}a_{ipt}y_{ip}(\\forall{i,t}\\in{N,T})\n",
    "$$\n",
    "\n",
    "$$\n",
    "\\sum_{i}^{}y_{ip}\\quad = 1 \\quad \\forall{}\n",
    "$$"
   ]
  },
  {
   "cell_type": "code",
   "execution_count": 10,
   "metadata": {},
   "outputs": [],
   "source": [
    "from gurobipy import Model,quicksum,GRB\n",
    "import numpy as np\n",
    "import matplotlib.pyplot as plt\n",
    "import networkx as nx\n",
    "import math\n",
    "import sys"
   ]
  },
  {
   "cell_type": "markdown",
   "metadata": {},
   "source": [
    " ## dataset"
   ]
  },
  {
   "cell_type": "code",
   "execution_count": 11,
   "metadata": {},
   "outputs": [
    {
     "data": {
      "text/plain": [
       "{0: 0,\n",
       " 1: 19,\n",
       " 2: 11,\n",
       " 3: 14,\n",
       " 4: 11,\n",
       " 5: 17,\n",
       " 6: 17,\n",
       " 7: 17,\n",
       " 8: 20,\n",
       " 9: 16,\n",
       " 10: 13,\n",
       " 11: 11,\n",
       " 12: 17,\n",
       " 13: 10,\n",
       " 14: 16,\n",
       " 15: 16,\n",
       " 16: 19,\n",
       " 17: 10,\n",
       " 18: 17,\n",
       " 19: 14,\n",
       " 20: 13,\n",
       " 21: 19,\n",
       " 22: 11,\n",
       " 23: 15,\n",
       " 24: 10,\n",
       " 25: 10,\n",
       " 26: 10,\n",
       " 27: 20,\n",
       " 28: 18,\n",
       " 29: 10}"
      ]
     },
     "execution_count": 11,
     "metadata": {},
     "output_type": "execute_result"
    }
   ],
   "source": [
    "import random\n",
    "random.seed(1)\n",
    "V = [i for i in range(30)] #デポと顧客の集合\n",
    "q = {} #顧客の需要\n",
    "for i in V:\n",
    "    q[0] = 0\n",
    "    q[i] = random.randint(10,20)\n",
    "np.random.seed(0)\n",
    "#配列作成\n",
    "x_y = np.random.rand(len(V), 2) * 100\n",
    "Q = 100 #車両の最大積載量\n",
    "m = 3 #車両数\n",
    "day = 2\n",
    "T = [0,1]#日にちの集合\n",
    "a = [2 for i in range(len(V))]\n",
    "li = [(1,2) for i in range(len(V))]\n",
    "pat = [()]\n",
    "for i in li:\n",
    "    pat.append(((format(i[1],'b').zfill(a[0]))\n",
    "              ,(format(i[0],'b').zfill(a[0]))))\n",
    "q"
   ]
  },
  {
   "cell_type": "code",
   "execution_count": 12,
   "metadata": {},
   "outputs": [],
   "source": [
    "pat = []\n",
    "for i in range(1,len(li)):\n",
    "    ll = []\n",
    "    for j in range(len(li[i])):\n",
    "        ll.append((format(li[i][j],'b').zfill(day)))\n",
    "    pat.append(ll)\n",
    "a = [()]\n",
    "P = [()]\n",
    "for i1 in pat:\n",
    "    ml = []\n",
    "    for i2 in i1[::-1]:\n",
    "        ll = []\n",
    "        for i3 in i2:\n",
    "            ll.append(int(i3))\n",
    "        ml.append(ll)\n",
    "    patdata = np.array(ml)\n",
    "    n_pat = [i for i in range(len(patdata))]\n",
    "    #print(patdata)\n",
    "    a.append(patdata)\n",
    "    P.append(n_pat)"
   ]
  },
  {
   "cell_type": "code",
   "execution_count": 13,
   "metadata": {},
   "outputs": [
    {
     "data": {
      "image/png": "[encoded data removed]",
      "text/plain": [
       "<Figure size 288x288 with 1 Axes>"
      ]
     },
     "metadata": {
      "needs_background": "light"
     },
     "output_type": "display_data"
    }
   ],
   "source": [
    "plt.figure(figsize=(4, 4))\n",
    "plt.plot(x_y[:, 0], x_y[:, 1], 'o')\n",
    "plt.plot(x_y[0][0],x_y[0][1],\"ro\")#デポを描画\n",
    "plt.text(x_y[0][0],x_y[0][1], \"depot\")\n",
    "plt.show()"
   ]
  },
  {
   "cell_type": "code",
   "execution_count": 14,
   "metadata": {},
   "outputs": [],
   "source": [
    "x_y = np.array(x_y)\n",
    "x = x_y[:, 0]\n",
    "y = x_y[:, 1]\n",
    "di = np.sqrt((x[:, np.newaxis] - x[np.newaxis, :]) ** 2 +(y[:, np.newaxis] - y[np.newaxis, :]) ** 2)\n",
    "Route = {(i,j) for i in V for j in V}"
   ]
  },
  {
   "cell_type": "code",
   "execution_count": 15,
   "metadata": {},
   "outputs": [],
   "source": [
    "#Parameter\n",
    "c = {} #移動間のコスト\n",
    "for i in range(len(x_y)):\n",
    "    for j in range(len(x_y)):\n",
    "        c[i,j] = di[i,j]"
   ]
  },
  {
   "cell_type": "markdown",
   "metadata": {},
   "source": [
    " # Gurobiで解く"
   ]
  },
  {
   "cell_type": "code",
   "execution_count": 16,
   "metadata": {},
   "outputs": [],
   "source": [
    "import math\n",
    "import random\n",
    "import networkx\n",
    "from gurobipy import *"
   ]
  },
  {
   "cell_type": "code",
   "execution_count": 17,
   "metadata": {},
   "outputs": [],
   "source": [
    "def vrp_callback(model,where):\n",
    "    if where != GRB.callback.MIPSOL:#新しい解を発見した時だけ部分巡回路除去制約を追加\n",
    "        return\n",
    "    for t in T:\n",
    "        edges = []\n",
    "        for (i,j,t2) in x:\n",
    "            if model.cbGetSolution(x[i,j,t]) > .5:\n",
    "                if t == t2 and i != V[0] and j != V[0]:\n",
    "                    edges.append( (i,j) )\n",
    "        G = networkx.Graph()\n",
    "        G.add_edges_from(edges)\n",
    "        Components = networkx.connected_components(G)\n",
    "        for S in Components:\n",
    "            S_card = len(S)\n",
    "            q_sum = sum(q[i] for i in S)\n",
    "            NS = int(math.ceil(float(q_sum)/Q))\n",
    "            S_edges = [(i,j) \n",
    "                       for i in S \n",
    "                       for j in S\n",
    "                       if i<j and (i,j) in edges]\n",
    "            if S_card >= 3 and (len(S_edges) >= S_card or NS > 1):\n",
    "                model.cbLazy(quicksum(x[i,j,t]\n",
    "                                      for i in S \n",
    "                                      for j in S \n",
    "                                      for t in T \n",
    "                                      if j > i) <= S_card-NS)\n",
    "                #print (\"adding cut for\" , S_edges)\n",
    "    return"
   ]
  },
  {
   "cell_type": "code",
   "execution_count": 18,
   "metadata": {},
   "outputs": [
    {
     "name": "stdout",
     "output_type": "stream",
     "text": [
      "Academic license - for non-commercial use only\n"
     ]
    }
   ],
   "source": [
    "model = Model(\"vrp\")"
   ]
  },
  {
   "cell_type": "code",
   "execution_count": 94,
   "metadata": {},
   "outputs": [],
   "source": [
    "#変数\n",
    "x = {}\n",
    "for i in V:\n",
    "    for j in V:\n",
    "        for t in T:\n",
    "            if j > i and i == V[0]:       # depot\n",
    "                x[i,j,t] = model.addVar(ub=2, vtype=\"I\", name=\"x(%s,%s,%s)\"%(i,j,t))\n",
    "            elif j > i:\n",
    "                x[i,j,t] = model.addVar(ub=1, vtype=\"I\", name=\"x(%s,%s,%s)\"%(i,j,t))\n",
    "\n",
    "\n",
    "model.update()\n",
    "#for (i,j,t) in x:\n",
    "#    print(x[i,j,t])"
   ]
  },
  {
   "cell_type": "code",
   "execution_count": 95,
   "metadata": {},
   "outputs": [],
   "source": [
    "y = {}\n",
    "for i in V:\n",
    "    for p in P[i]:\n",
    "        y[i,p] = model.addVar(vtype=\"B\",name = f\"y[{i},{p}]\")\n",
    "model.update()\n",
    "#for (i,p) in y:\n",
    "#    print(y[i,p])"
   ]
  },
  {
   "cell_type": "code",
   "execution_count": 96,
   "metadata": {},
   "outputs": [],
   "source": [
    "#制約\n",
    "    \n",
    "#トラックがデポから出発する制約\n",
    "for t in T:\n",
    "    model.addConstr(quicksum(x[V[0],j,t] for j in V[1:]) <= 2*m )\n",
    "\n",
    "#必ず一台の車両により顧客へのサービスが行われる割り当て制約\n",
    "for i in V[1:]:\n",
    "    for t in T:\n",
    "        model.addConstr(quicksum(x[j,i,t] for j in V if j < i) +\n",
    "                        quicksum(x[i,j,t] for j in V if j > i) == \n",
    "                        2 * quicksum(a[i][p][t]* y[i,p]for p in P[i]))\n",
    "\n",
    "#必ず全ての顧客を回る制約\n",
    "for i in V[1:]:\n",
    "    model.addConstr(quicksum(y[i,p] for p in P[i]) == 1)\n",
    "\n",
    "model.update()"
   ]
  },
  {
   "cell_type": "code",
   "execution_count": 97,
   "metadata": {},
   "outputs": [],
   "source": [
    "#目的関数\n",
    "model.setObjective(quicksum(c[i,j]*x[i,j,t] \n",
    "                            for i in V\n",
    "                            for j in V \n",
    "                            for t in T\n",
    "                            if j>i), GRB.MINIMIZE)\n",
    "\n",
    "model.update()\n",
    "#model.__data = x"
   ]
  },
  {
   "cell_type": "code",
   "execution_count": 98,
   "metadata": {},
   "outputs": [
    {
     "name": "stdout",
     "output_type": "stream",
     "text": [
      "Changed value of parameter DualReductions to 0\n",
      "   Prev: 1  Min: 0  Max: 1  Default: 1\n",
      "Changed value of parameter LazyConstraints to 1\n",
      "   Prev: 0  Min: 0  Max: 1  Default: 0\n",
      "Optimize a model with 89 rows, 928 columns and 1856 nonzeros\n",
      "Variable types: 0 continuous, 928 integer (58 binary)\n",
      "Coefficient statistics:\n",
      "  Matrix range     [1e+00, 2e+00]\n",
      "  Objective range  [3e+00, 1e+02]\n",
      "  Bounds range     [1e+00, 2e+00]\n",
      "  RHS range        [1e+00, 6e+00]\n",
      "Presolve removed 29 rows and 29 columns\n",
      "Presolve time: 0.01s\n",
      "Presolved: 60 rows, 899 columns, 1798 nonzeros\n",
      "Variable types: 0 continuous, 899 integer (841 binary)\n",
      "\n",
      "Root relaxation: objective 4.242329e+02, 88 iterations, 0.00 seconds\n",
      "\n",
      "    Nodes    |    Current Node    |     Objective Bounds      |     Work\n",
      " Expl Unexpl |  Obj  Depth IntInf | Incumbent    BestBd   Gap | It/Node Time\n",
      "\n",
      "     0     0  424.23293    0   33          -  424.23293      -     -    0s\n",
      "     0     0  514.47908    0   31          -  514.47908      -     -    0s\n",
      "     0     0  523.57597    0   28          -  523.57597      -     -    0s\n",
      "     0     0  524.02368    0   53          -  524.02368      -     -    0s\n",
      "     0     0  524.02368    0   45          -  524.02368      -     -    0s\n",
      "     0     2  527.39002    0   34          -  527.39002      -     -    0s\n",
      "  1581   963  622.08616   29   58          -  616.18767      -  17.1    5s\n",
      "* 2130  1160              99     882.7824126  617.65760  30.0%  16.2    5s\n",
      "  3908  2416  742.99394   49   19  882.78241  622.14265  29.5%  14.8   10s\n",
      "  6381  4402  722.40560   85   34  882.78241  625.55545  29.1%  15.0   15s\n",
      "* 8250  5097              81     755.8005955  627.03542  17.0%  14.8   19s\n",
      "  8623  5358  743.07187   84   22  755.80060  627.41999  17.0%  14.9   20s\n",
      " 10352  6713  674.25650   35   58  755.80060  629.30443  16.7%  15.5   25s\n",
      "H11636  6847                     728.5056979  629.85325  13.5%  15.8   28s\n",
      " 12316  7360     cutoff   50       728.50570  630.48957  13.5%  16.0   30s\n",
      "H12664  6101                     703.3338058  630.68364  10.3%  16.1   30s\n",
      " 13916  7026  680.79117   81   33  703.33381  631.71657  10.2%  16.5   35s\n",
      "H14686  5476                     684.2373996  632.02021  7.63%  16.7   37s\n",
      " 15140  5783     cutoff   40       684.23740  632.51715  7.56%  16.8   40s\n",
      "H15143  5004                     677.8743193  632.51715  6.69%  16.8   40s\n",
      "H15144  4923                     677.2770957  632.51715  6.61%  16.8   40s\n",
      " 16564  5694  666.30110   26   35  677.27710  634.18538  6.36%  17.5   45s\n",
      " 17853  6412     cutoff   60       677.27710  635.59397  6.15%  17.9   50s\n",
      " 18835  6901  660.19431   28   67  677.27710  636.58353  6.01%  18.2   55s\n",
      " 19620  7305  657.46412   30   79  677.27710  637.33948  5.90%  18.5   60s\n",
      " 20703  7836  663.50147   39   67  677.27710  638.13561  5.78%  18.7   65s\n",
      " 21821  8376  662.63273   28   62  677.27710  638.73597  5.69%  19.0   70s\n",
      " 22920  8915  676.14971   40   47  677.27710  639.42591  5.59%  19.2   75s\n",
      " 23978  9477  676.39038   32   49  677.27710  639.93990  5.51%  19.4   80s\n",
      " 25181 10092  656.76143   31   71  677.27710  640.71872  5.40%  19.5   85s\n",
      " 26401 10717  665.15727   39   69  677.27710  641.37214  5.30%  19.7   90s\n",
      " 27732 11421  659.49426   47   56  677.27710  642.02305  5.21%  19.9   95s\n",
      " 28707 11888     cutoff   46       677.27710  642.52523  5.13%  20.1  100s\n",
      " 30182 12596     cutoff   43       677.27710  643.21591  5.03%  20.2  105s\n",
      " 31462 13303     cutoff   43       677.27710  643.71020  4.96%  20.4  110s\n",
      " 32763 13942  675.82310   48   33  677.27710  644.21882  4.88%  20.5  115s\n",
      " 34050 14549  669.04172   35   62  677.27710  644.59991  4.82%  20.7  120s\n",
      " 35395 15184     cutoff   43       677.27710  644.94242  4.77%  20.8  125s\n",
      " 36360 15663  663.21359   44   54  677.27710  645.18222  4.74%  20.8  130s\n",
      " 37411 16148     cutoff   37       677.27710  645.42370  4.70%  21.0  136s\n",
      "\n",
      "Cutting planes:\n",
      "  Gomory: 14\n",
      "  Cover: 36\n",
      "  Clique: 4\n",
      "  MIR: 11\n",
      "  Flow cover: 46\n",
      "  Zero half: 1\n",
      "  Lazy constraints: 1676\n",
      "\n",
      "Explored 37819 nodes (795574 simplex iterations) in 137.58 seconds\n",
      "Thread count was 4 (of 4 available processors)\n",
      "\n",
      "Solution count 7: 677.277 677.874 684.237 ... 882.782\n",
      "\n",
      "Solve interrupted\n",
      "Best objective 6.772770956712e+02, best bound 6.455030416732e+02, gap 4.6914%\n",
      "Optimal solution: 677.2770956711985\n",
      "Edges in the solution:\n",
      "[(1, 16), (1, 18), (2, 16), (7, 23), (7, 27), (20, 24), (23, 29), (24, 27), (25, 29)]\n"
     ]
    }
   ],
   "source": [
    "if __name__ == \"__main__\":\n",
    "    import sys\n",
    "    model.params.DualReductions = 0\n",
    "    model.params.LazyConstraints = 1\n",
    "    model.optimize(vrp_callback)\n",
    "    #model.optimize()\n",
    "    #x = model.__data\n",
    "\n",
    "    for t in T:\n",
    "        edges = []\n",
    "        for (i,j,t2) in x:\n",
    "            if x[i,j,t].X > .5:\n",
    "                if t2 == t and i != V[0] and j != V[0]:\n",
    "                        edges.append( (i,j) )\n",
    "\n",
    "    print (\"Optimal solution:\",model.ObjVal)\n",
    "    print (\"Edges in the solution:\")\n",
    "    print (sorted(edges))"
   ]
  },
  {
   "cell_type": "code",
   "execution_count": 99,
   "metadata": {},
   "outputs": [
    {
     "name": "stdout",
     "output_type": "stream",
     "text": [
      "x(0,2,1) 1.0\n",
      "x(0,5,0) 1.0\n",
      "x(0,6,0) 1.0\n",
      "x(0,11,0) 1.0\n",
      "x(0,14,0) 1.0\n",
      "x(0,15,0) 1.0\n",
      "x(0,18,1) 1.0\n",
      "x(0,20,1) 1.0\n",
      "x(0,22,0) 1.0\n",
      "x(0,25,1) 1.0\n",
      "x(1,16,1) 1.0\n",
      "x(1,18,1) 1.0\n",
      "x(2,16,1) 1.0\n",
      "x(3,11,0) 1.0\n",
      "x(3,13,0) 1.0\n",
      "x(4,5,0) 1.0\n",
      "x(4,26,0) 1.0\n",
      "x(6,9,0) 1.0\n",
      "x(7,23,1) 1.0\n",
      "x(7,27,1) 1.0\n",
      "x(8,13,0) 1.0\n",
      "x(8,17,0) 1.0\n",
      "x(9,10,0) 1.0\n",
      "x(10,19,0) 1.0\n",
      "x(12,15,0) 1.0\n",
      "x(12,17,0) 1.0\n",
      "x(14,28,0) 1.0\n",
      "x(19,22,0) 1.0\n",
      "x(20,24,1) 1.0\n",
      "x(21,26,0) 1.0\n",
      "x(21,28,0) 1.0\n",
      "x(23,29,1) 1.0\n",
      "x(24,27,1) 1.0\n",
      "x(25,29,1) 1.0\n",
      "y[1,1] 1.0\n",
      "y[2,1] 1.0\n",
      "y[3,0] 1.0\n",
      "y[4,0] 1.0\n",
      "y[5,0] 1.0\n",
      "y[6,0] 1.0\n",
      "y[7,1] 1.0\n",
      "y[8,0] 1.0\n",
      "y[9,0] 1.0\n",
      "y[10,0] 1.0\n",
      "y[11,0] 1.0\n",
      "y[12,0] 1.0\n",
      "y[13,0] 1.0\n",
      "y[14,0] 1.0\n",
      "y[15,0] 1.0\n",
      "y[16,1] 1.0\n",
      "y[17,0] 1.0\n",
      "y[18,1] 1.0\n",
      "y[19,0] 1.0\n",
      "y[20,1] 1.0\n",
      "y[21,0] 1.0\n",
      "y[22,0] 1.0\n",
      "y[23,1] 1.0\n",
      "y[24,1] 1.0\n",
      "y[25,1] 1.0\n",
      "y[26,0] 1.0\n",
      "y[27,1] 1.0\n",
      "y[28,0] 1.0\n",
      "y[29,1] 1.0\n"
     ]
    }
   ],
   "source": [
    "#変数の確認\n",
    "for v in model.getVars():\n",
    "    if v.X> 0:\n",
    "        print(v.VarName, v.X)"
   ]
  },
  {
   "cell_type": "code",
   "execution_count": 68,
   "metadata": {},
   "outputs": [
    {
     "name": "stdout",
     "output_type": "stream",
     "text": [
      "Optimal solution: 483.17133062417514\n"
     ]
    }
   ],
   "source": [
    "print (\"Optimal solution:\",model.ObjVal)"
   ]
  },
  {
   "cell_type": "code",
   "execution_count": 56,
   "metadata": {},
   "outputs": [
    {
     "name": "stdout",
     "output_type": "stream",
     "text": [
      "Changed value of parameter DualReductions to 0\n",
      "   Prev: 1  Min: 0  Max: 1  Default: 1\n",
      "Changed value of parameter LazyConstraints to 1\n",
      "   Prev: 0  Min: 0  Max: 1  Default: 0\n",
      "Optimize a model with 59 rows, 418 columns and 836 nonzeros\n",
      "Variable types: 0 continuous, 418 integer (38 binary)\n",
      "Coefficient statistics:\n",
      "  Matrix range     [1e+00, 2e+00]\n",
      "  Objective range  [7e+00, 1e+02]\n",
      "  Bounds range     [1e+00, 2e+00]\n",
      "  RHS range        [1e+00, 4e+00]\n",
      "Presolve removed 19 rows and 19 columns\n",
      "Presolve time: 0.01s\n",
      "Presolved: 40 rows, 399 columns, 798 nonzeros\n",
      "Variable types: 0 continuous, 399 integer (361 binary)\n",
      "\n",
      "Root relaxation: objective 3.614545e+02, 49 iterations, 0.00 seconds\n",
      "\n",
      "    Nodes    |    Current Node    |     Objective Bounds      |     Work\n",
      " Expl Unexpl |  Obj  Depth IntInf | Incumbent    BestBd   Gap | It/Node Time\n",
      "\n",
      "     0     0  361.45451    0   16          -  361.45451      -     -    0s\n",
      "     0     0  395.71121    0    6          -  395.71121      -     -    0s\n",
      "     0     0  419.62392    0   28          -  419.62392      -     -    0s\n",
      "H    0     0                     557.9108140  419.62392  24.8%     -    0s\n",
      "     0     0  426.85803    0    1  557.91081  426.85803  23.5%     -    0s\n",
      "     0     0  435.69629    0   13  557.91081  435.69629  21.9%     -    0s\n",
      "     0     0  450.16184    0    2  557.91081  450.16184  19.3%     -    0s\n",
      "H    0     0                     557.4474342  450.16184  19.2%     -    0s\n",
      "     0     0  457.20603    0    5  557.44743  457.20603  18.0%     -    0s\n",
      "H    0     0                     536.7582634  457.20603  14.8%     -    0s\n",
      "     0     0  461.68010    0   43  536.75826  461.68010  14.0%     -    0s\n",
      "     0     0  461.90464    0   39  536.75826  461.90464  13.9%     -    0s\n",
      "     0     0  461.90464    0   37  536.75826  461.90464  13.9%     -    0s\n",
      "     0     0  461.90464    0   27  536.75826  461.90464  13.9%     -    0s\n",
      "     0     2  461.90464    0   27  536.75826  461.90464  13.9%     -    0s\n",
      "*  796   530              19     534.7633331  471.99317  11.7%   8.0    0s\n",
      "* 1142   445              19     483.1713306  478.59150  0.95%   8.8    2s\n",
      "\n",
      "Cutting planes:\n",
      "  Gomory: 9\n",
      "  Cover: 19\n",
      "  Clique: 4\n",
      "  MIR: 5\n",
      "  Flow cover: 14\n",
      "  Zero half: 1\n",
      "  Lazy constraints: 53\n",
      "\n",
      "Explored 1168 nodes (10657 simplex iterations) in 2.40 seconds\n",
      "Thread count was 4 (of 4 available processors)\n",
      "\n",
      "Solution count 5: 483.171 534.763 536.758 ... 557.911\n",
      "\n",
      "Optimal solution found (tolerance 1.00e-04)\n",
      "Best objective 4.831713306242e+02, best bound 4.831713306242e+02, gap 0.0000%\n",
      "Optimal solution: 483.17133062417514\n",
      "Edges in the solution:\n",
      "[(4, 5), (4, 19), (6, 9), (9, 10), (10, 19)]\n"
     ]
    }
   ],
   "source": [
    "import math\n",
    "import random\n",
    "import networkx\n",
    "from gurobipy import *\n",
    "\n",
    "def vrp(V,c,m,q,Q,T,P):\n",
    "    \n",
    "    def vrp_callback(model,where):\n",
    "        if where != GRB.callback.MIPSOL:#新しい解を発見した時だけ部分巡回路除去制約を追加\n",
    "            return\n",
    "        for t in T:\n",
    "            edges = []\n",
    "            for (i,j,t2) in x:\n",
    "                if model.cbGetSolution(x[i,j,t]) > .5:\n",
    "                    if t == t2 and i != V[0] and j != V[0]:\n",
    "                        edges.append( (i,j) )\n",
    "            #print(\"#############\")\n",
    "            G = networkx.Graph()\n",
    "            G.add_edges_from(edges)\n",
    "            Components = networkx.connected_components(G)\n",
    "            for S in Components:\n",
    "                S_card = len(S)\n",
    "                q_sum = sum(q[i] for i in S)\n",
    "                NS = int(math.ceil(float(q_sum)/Q))\n",
    "                S_edges = [(i,j) \n",
    "                           for i in S \n",
    "                           for j in S\n",
    "                           if i<j and (i,j) in edges]\n",
    "                if S_card >= 3 and (len(S_edges) >= S_card or NS > 1):\n",
    "                    model.cbLazy(quicksum(x[i,j,t]\n",
    "                                          for i in S \n",
    "                                          for j in S \n",
    "                                          for t in T \n",
    "                                          if j > i) <= S_card-NS)\n",
    "                    #print (\"adding cut for\" , S_edges)\n",
    "        return\n",
    "\n",
    "\n",
    "    model = Model(\"vrp\")\n",
    "    \n",
    "    #変数\n",
    "    \n",
    "    x = {}\n",
    "    for i in V:\n",
    "        for j in V:\n",
    "            for t in T:\n",
    "                if j > i and i == V[0]:       # depot\n",
    "                        x[i,j,t] = model.addVar(ub=2, vtype=\"I\", name=\"x(%s,%s,%s)\"%(i,j,t))\n",
    "                elif j > i:\n",
    "                    x[i,j,t] = model.addVar(ub=1, vtype=\"I\", name=\"x(%s,%s,%s)\"%(i,j,t))\n",
    "\n",
    "    #print(x)\n",
    "    y = {}\n",
    "    for i in V:\n",
    "        for p in P[i]:\n",
    "            y[i,p] = model.addVar(vtype=\"B\",name = f\"y[{i},{p}]\")\n",
    "    #print(y)\n",
    "    model.update()\n",
    "    \n",
    "    #制約\n",
    "    \n",
    "    #トラックがデポから出発する制約\n",
    "    for t in T:\n",
    "        model.addConstr(quicksum(x[V[0],j,t] for j in V[1:]) <= 2*m )\n",
    "        \n",
    "    #必ず一台の車両により顧客へのサービスが行われる割り当て制約\n",
    "    for i in V[1:]:\n",
    "        for t in T:\n",
    "            model.addConstr(quicksum(x[j,i,t] for j in V if j < i) +\n",
    "                            quicksum(x[i,j,t] for j in V if j > i) == \n",
    "                            2 * quicksum(a[i][p][t]* y[i,p]for p in P[i]))\n",
    "            \n",
    "    #必ず全ての顧客を回る制約\n",
    "    for i in V[1:]:\n",
    "        model.addConstr(quicksum(y[i,p] for p in P[i]) == 1)\n",
    "        \n",
    "    model.update()\n",
    "    \n",
    "    #目的関数\n",
    "    model.setObjective(quicksum(c[i,j]*x[i,j,t] \n",
    "                                for i in V\n",
    "                                for j in V \n",
    "                                for t in T\n",
    "                                if j>i), GRB.MINIMIZE)\n",
    "\n",
    "    model.update()\n",
    "    model.__data = x\n",
    "    return model,vrp_callback\n",
    "\n",
    "\n",
    "\n",
    "    \n",
    "            \n",
    "if __name__ == \"__main__\":\n",
    "    import sys\n",
    "\n",
    "    model,vrp_callback = vrp(V,c,m,q,Q,T,P)\n",
    "\n",
    "    model.params.DualReductions = 0\n",
    "    model.params.LazyConstraints = 1\n",
    "    model.optimize(vrp_callback)\n",
    "    x = model.__data\n",
    "    \n",
    "    \"\"\"for t in T:\n",
    "        edges = []\n",
    "        for (i,j,t2) in x:\n",
    "            if x[i,j,t2].X > 5:\n",
    "                if t2 == t and i != V[0] and j != V[0]:\n",
    "                    edges.append( (i,j) )\"\"\"\n",
    "\n",
    "    print (\"Optimal solution:\",model.ObjVal)\n",
    "    print (\"Edges in the solution:\")\n",
    "    print (sorted(edges))"
   ]
  },
  {
   "cell_type": "code",
   "execution_count": 57,
   "metadata": {},
   "outputs": [
    {
     "name": "stdout",
     "output_type": "stream",
     "text": [
      "最適距離: 483.17133062417514\n"
     ]
    }
   ],
   "source": [
    "opt = model.ObjVal\n",
    "print(f\"最適距離: {opt}\")"
   ]
  },
  {
   "cell_type": "code",
   "execution_count": 58,
   "metadata": {},
   "outputs": [
    {
     "name": "stdout",
     "output_type": "stream",
     "text": [
      "x(0,2,0) 1.0\n",
      "x(0,5,1) 1.0\n",
      "x(0,6,1) 1.0\n",
      "x(0,11,0) 1.0000000000000058\n",
      "x(0,15,0) 1.0\n",
      "x(0,18,0) 1.0\n",
      "x(1,14,0) 0.9999999999999928\n",
      "x(1,18,0) 1.0\n",
      "x(2,16,0) 1.0\n",
      "x(3,11,0) 0.9999999999999942\n",
      "x(3,13,0) 1.0000000000000013\n",
      "x(4,5,1) 1.0000000000000002\n",
      "x(4,19,1) 0.9999999999999998\n",
      "x(6,9,1) 1.0\n",
      "x(7,14,0) 1.0\n",
      "x(7,16,0) 1.0000000000000016\n",
      "x(8,13,0) 1.000000000000001\n",
      "x(8,17,0) 1.0000000000000044\n",
      "x(9,10,1) 0.9999999999999989\n",
      "x(10,19,1) 0.9999999999999989\n",
      "x(12,15,0) 1.0\n",
      "x(12,17,0) 1.0\n",
      "y[1,0] 0.9999999999999964\n",
      "y[1,1] 3.552713678800501e-15\n",
      "y[2,0] 1.0\n",
      "y[3,0] 1.0\n",
      "y[4,1] 1.0\n",
      "y[5,1] 1.0\n",
      "y[6,1] 1.0\n",
      "y[7,0] 1.0\n",
      "y[8,0] 1.0000000000000027\n",
      "y[9,1] 1.0\n",
      "y[10,1] 1.0\n",
      "y[11,0] 1.0\n",
      "y[12,0] 1.0\n",
      "y[13,0] 1.0\n",
      "y[14,0] 1.0\n",
      "y[15,0] 1.0\n",
      "y[16,0] 1.0\n",
      "y[17,0] 1.0\n",
      "y[18,0] 1.0\n",
      "y[19,1] 1.0\n"
     ]
    }
   ],
   "source": [
    "#変数の確認\n",
    "for v in model.getVars():\n",
    "    if v.X> 0:\n",
    "        print(v.VarName, v.X)"
   ]
  },
  {
   "cell_type": "markdown",
   "metadata": {},
   "source": [
    " # ルートの可視化"
   ]
  },
  {
   "cell_type": "code",
   "execution_count": 107,
   "metadata": {},
   "outputs": [
    {
     "data": {
      "image/png": "[encoded data removed]",
      "text/plain": [
       "<Figure size 288x288 with 1 Axes>"
      ]
     },
     "metadata": {
      "needs_background": "light"
     },
     "output_type": "display_data"
    }
   ],
   "source": [
    "plt.figure(figsize=(4, 4))\n",
    "plt.scatter(x_y[:, 0], x_y[:, 1], c='b')\n",
    "#plt.text(x_y[:,0]+1,x_y[:,1]+1, str(V[0:]))\n",
    "plt.scatter(x_y[0][0],x_y[0][1],c=\"r\")#デポを描画\n",
    "plt.text(x_y[0][0],x_y[0][1], \"depot\")\n",
    "\n",
    "for t in T:\n",
    "    for i in V:\n",
    "        for j in V:\n",
    "            if i < j and x[i,j,t].x >= 0.9:\n",
    "                plt.plot([x_y[i][0],x_y[j][0]], [x_y[i][1], x_y[j][1]], c=\"black\")\n",
    "plt.show()"
   ]
  },
  {
   "cell_type": "code",
   "execution_count": 108,
   "metadata": {},
   "outputs": [
    {
     "data": {
      "image/png": "[encoded data removed]",
      "text/plain": [
       "<Figure size 288x288 with 1 Axes>"
      ]
     },
     "metadata": {
      "needs_background": "light"
     },
     "output_type": "display_data"
    }
   ],
   "source": [
    "#１日目\n",
    "plt.figure(figsize=(4, 4))\n",
    "plt.scatter(x_y[:, 0], x_y[:, 1], c='b')\n",
    "#plt.text(x_y[:,0]+1,x_y[:,1]+1, str(V[0:]))\n",
    "plt.scatter(x_y[0][0],x_y[0][1],c=\"r\")#デポを描画\n",
    "plt.text(x_y[0][0],x_y[0][1], \"depot\")\n",
    "\n",
    "for t in T:\n",
    "    if t == 0:\n",
    "        for i in V:\n",
    "            for j in V:\n",
    "                if i < j and x[i,j,t].x >= 0.9:\n",
    "                    plt.plot([x_y[i][0],x_y[j][0]], [x_y[i][1], x_y[j][1]], c=\"black\")\n",
    "plt.show()"
   ]
  },
  {
   "cell_type": "code",
   "execution_count": 109,
   "metadata": {},
   "outputs": [
    {
     "data": {
      "image/png": "[encoded data removed]",
      "text/plain": [
       "<Figure size 288x288 with 1 Axes>"
      ]
     },
     "metadata": {
      "needs_background": "light"
     },
     "output_type": "display_data"
    }
   ],
   "source": [
    "#2日目\n",
    "plt.figure(figsize=(4, 4))\n",
    "plt.scatter(x_y[:, 0], x_y[:, 1], c='b')\n",
    "#plt.text(x_y[:,0]+1,x_y[:,1]+1, str(V[0:]))\n",
    "plt.scatter(x_y[0][0],x_y[0][1],c=\"r\")#デポを描画\n",
    "plt.text(x_y[0][0],x_y[0][1], \"depot\")\n",
    "\n",
    "for t in T:\n",
    "    if t == 1:\n",
    "        for i in V:\n",
    "            for j in V:\n",
    "                if i < j and x[i,j,t].x >= 0.9:\n",
    "                    plt.plot([x_y[i][0],x_y[j][0]], [x_y[i][1], x_y[j][1]], c=\"black\")\n",
    "plt.show()"
   ]
  },
  {
   "cell_type": "code",
   "execution_count": null,
   "metadata": {},
   "outputs": [],
   "source": []
  }
 ],
 "metadata": {
  "kernelspec": {
   "display_name": "Python 3",
   "language": "python",
   "name": "python3"
  },
  "language_info": {
   "codemirror_mode": {
    "name": "ipython",
    "version": 3
   },
   "file_extension": ".py",
   "mimetype": "text/x-python",
   "name": "python",
   "nbconvert_exporter": "python",
   "pygments_lexer": "ipython3",
   "version": "3.7.1"
  }
 },
 "nbformat": 4,
 "nbformat_minor": 4
}
