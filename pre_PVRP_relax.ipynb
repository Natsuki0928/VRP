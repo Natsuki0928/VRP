{
 "cells": [
  {
   "cell_type": "markdown",
   "metadata": {},
   "source": [
    " # PVRP（期間配車計画問題）"
   ]
  },
  {
   "cell_type": "markdown",
   "metadata": {},
   "source": [
    "## 定式化\n",
    "\n",
    "$$\n",
    "minimize \\quad \\sum_{ij}^{}c_{ij}x_{ijt} \\quad　(i<j)\n",
    "$$\n",
    "\n",
    "$$\n",
    " subject \\quad to \\quad \\sum_{j}^{}x_{1jt} <= 2m   \\quad(\\forall{t}\\in{T})\n",
    "$$\n",
    "\n",
    "$$\n",
    " \\sum_{i}^{}x_{ijt}+\\sum_{j}^{}x_{jit} = 2\\sum_{p}a_{ipt}y_{ip} \\quad (\\forall{i,t}\\in{N,T})\n",
    "$$\n",
    "\n",
    "$$\n",
    "\\sum_{i}^{}y_{ip}\\quad = 1 \\quad (\\forall{i,p}\\in{N,P})\n",
    "$$\n",
    "\n",
    "$$\n",
    "\\sum_{t} \\sum_{i,j \\in S}x_{ij} <= |S| - N(S)\n",
    "$$\n",
    "\n",
    "$$\n",
    "x_{1jt} \\in {0,1,2}\n",
    "$$\n",
    "\n",
    "$$\n",
    "x_{ijt} \\in {0,1}\n",
    "$$\n",
    "\n",
    "$$\n",
    "y_{ip} \\in {0,1} \n",
    "$$"
   ]
  },
  {
   "cell_type": "markdown",
   "metadata": {},
   "source": [
    "### 制約説明\n",
    "制約１：m台の運搬車があり、点１に出入りする運搬車を表す枝の本数が2m以下である.\n",
    "\n",
    "制約２：各顧客に対して各訪問パターンから一つを選んで運搬車が１台訪問する.\n",
    "\n",
    "制約３：各顧客に対して、訪問パターンから一つを選ぶ.\n",
    "\n",
    "制約４：運搬車の容量制約と部分巡回路を禁止するもの.\n",
    "N(S)はS内の顧客の需要を運ぶための運搬車の数"
   ]
  },
  {
   "cell_type": "markdown",
   "metadata": {},
   "source": [
    "### 線形計画緩和で解く場合\n",
    "$$\n",
    "y_{ip} \\in [{0,1}]\n",
    "$$\n",
    "\n",
    "ではなく\n",
    "\n",
    "$$\n",
    "y_{ip}  \\quad [0<=y<=1]\n",
    "$$\n"
   ]
  },
  {
   "cell_type": "code",
   "execution_count": 1,
   "metadata": {},
   "outputs": [],
   "source": [
    "from gurobipy import Model,quicksum,GRB\n",
    "import numpy as np\n",
    "import matplotlib.pyplot as plt\n",
    "import networkx as nx\n",
    "import math\n",
    "import sys"
   ]
  },
  {
   "cell_type": "markdown",
   "metadata": {},
   "source": [
    " ## dataset"
   ]
  },
  {
   "cell_type": "code",
   "execution_count": 2,
   "metadata": {},
   "outputs": [
    {
     "data": {
      "text/plain": [
       "{0: 0, 1: 19, 2: 11, 3: 14, 4: 11, 5: 17, 6: 17, 7: 17, 8: 20, 9: 16}"
      ]
     },
     "execution_count": 2,
     "metadata": {},
     "output_type": "execute_result"
    }
   ],
   "source": [
    "import random\n",
    "random.seed(1)\n",
    "V = [i for i in range(10)] #デポと顧客の集合\n",
    "q = {} #顧客の需要\n",
    "for i in V:\n",
    "    q[0] = 0\n",
    "    q[i] = random.randint(10,20)\n",
    "np.random.seed(0)\n",
    "#配列作成\n",
    "x_y = np.random.rand(len(V), 2) * 100\n",
    "Q = 100 #車両の最大積載量\n",
    "m = 1 #車両数\n",
    "day = 2\n",
    "T = [0,1]#日にちの集合\n",
    "a = [2 for i in range(len(V))]\n",
    "li = [(1,2) for i in range(len(V))]\n",
    "pat = [()]\n",
    "for i in li:\n",
    "    pat.append(((format(i[1],'b').zfill(a[0]))\n",
    "              ,(format(i[0],'b').zfill(a[0]))))\n",
    "q"
   ]
  },
  {
   "cell_type": "code",
   "execution_count": 3,
   "metadata": {},
   "outputs": [
    {
     "name": "stdout",
     "output_type": "stream",
     "text": [
      "[(), array([[1, 0],\n",
      "       [0, 1]]), array([[1, 0],\n",
      "       [0, 1]]), array([[1, 0],\n",
      "       [0, 1]]), array([[1, 0],\n",
      "       [0, 1]]), array([[1, 0],\n",
      "       [0, 1]]), array([[1, 0],\n",
      "       [0, 1]]), array([[1, 0],\n",
      "       [0, 1]]), array([[1, 0],\n",
      "       [0, 1]]), array([[1, 0],\n",
      "       [0, 1]])]\n"
     ]
    }
   ],
   "source": [
    "pat = []\n",
    "for i in range(1,len(li)):\n",
    "    ll = []\n",
    "    for j in range(len(li[i])):\n",
    "        ll.append((format(li[i][j],'b').zfill(day)))\n",
    "    pat.append(ll)\n",
    "a = [()]\n",
    "P = [()]\n",
    "for i1 in pat:\n",
    "    ml = []\n",
    "    for i2 in i1[::-1]:\n",
    "        ll = []\n",
    "        for i3 in i2:\n",
    "            ll.append(int(i3))\n",
    "        ml.append(ll)\n",
    "    patdata = np.array(ml)\n",
    "    n_pat = [i for i in range(len(patdata))]\n",
    "    #print(patdata)\n",
    "    a.append(patdata)\n",
    "    P.append(n_pat)\n",
    "print(a)"
   ]
  },
  {
   "cell_type": "code",
   "execution_count": 4,
   "metadata": {},
   "outputs": [
    {
     "data": {
      "image/png": "[encoded data removed]",
      "text/plain": [
       "<Figure size 288x288 with 1 Axes>"
      ]
     },
     "metadata": {
      "needs_background": "light"
     },
     "output_type": "display_data"
    }
   ],
   "source": [
    "plt.figure(figsize=(4, 4))\n",
    "plt.plot(x_y[:, 0], x_y[:, 1], 'o')\n",
    "plt.plot(x_y[0][0],x_y[0][1],\"ro\")#デポを描画\n",
    "plt.text(x_y[0][0],x_y[0][1], \"depot\")\n",
    "plt.show()"
   ]
  },
  {
   "cell_type": "code",
   "execution_count": 5,
   "metadata": {},
   "outputs": [],
   "source": [
    "x_y = np.array(x_y)\n",
    "x = x_y[:, 0]\n",
    "y = x_y[:, 1]\n",
    "di = np.sqrt((x[:, np.newaxis] - x[np.newaxis, :]) ** 2 +(y[:, np.newaxis] - y[np.newaxis, :]) ** 2)\n",
    "Route = {(i,j) for i in V for j in V}"
   ]
  },
  {
   "cell_type": "code",
   "execution_count": 6,
   "metadata": {},
   "outputs": [],
   "source": [
    "#Parameter\n",
    "c = {} #移動間のコスト\n",
    "for i in range(len(x_y)):\n",
    "    for j in range(len(x_y)):\n",
    "        c[i,j] = di[i,j]"
   ]
  },
  {
   "cell_type": "markdown",
   "metadata": {},
   "source": [
    " # Gurobiで解く"
   ]
  },
  {
   "cell_type": "code",
   "execution_count": 7,
   "metadata": {},
   "outputs": [],
   "source": [
    "import math\n",
    "import random\n",
    "import networkx\n",
    "from gurobipy import *"
   ]
  },
  {
   "cell_type": "code",
   "execution_count": 8,
   "metadata": {},
   "outputs": [],
   "source": [
    "def vrp_callback(model,where):\n",
    "    if where != GRB.callback.MIPSOL:#新しい解を発見した時だけ部分巡回路除去制約を追加\n",
    "        return\n",
    "    for t in T:\n",
    "        edges = []\n",
    "        for (i,j,t2) in x:\n",
    "            if model.cbGetSolution(x[i,j,t]) > .5:\n",
    "                if t == t2 and i != V[0] and j != V[0]:\n",
    "                    edges.append( (i,j) )\n",
    "        G = networkx.Graph()\n",
    "        G.add_edges_from(edges)\n",
    "        Components = networkx.connected_components(G)\n",
    "        for S in Components:\n",
    "            S_card = len(S)\n",
    "            q_sum = sum(q[i] for i in S)\n",
    "            NS = int(math.ceil(float(q_sum)/Q))\n",
    "            S_edges = [(i,j) \n",
    "                       for i in S \n",
    "                       for j in S\n",
    "                       if i<j and (i,j) in edges]\n",
    "            if S_card >= 3 and (len(S_edges) >= S_card or NS > 1):\n",
    "                model.cbLazy(quicksum(x[i,j,t]\n",
    "                                      for i in S \n",
    "                                      for j in S \n",
    "                                      for t in T \n",
    "                                      if j > i) <= S_card-NS)\n",
    "                #print (\"adding cut for\" , S_edges)\n",
    "    return"
   ]
  },
  {
   "cell_type": "code",
   "execution_count": 9,
   "metadata": {},
   "outputs": [
    {
     "name": "stdout",
     "output_type": "stream",
     "text": [
      "Using license file /Users/suzukinatsuki/gurobi.lic\n",
      "Academic license - for non-commercial use only\n"
     ]
    }
   ],
   "source": [
    "model = Model(\"pvrp\")"
   ]
  },
  {
   "cell_type": "code",
   "execution_count": 22,
   "metadata": {},
   "outputs": [],
   "source": [
    "#変数\n",
    "x = {}\n",
    "for i in V:\n",
    "    for j in V:\n",
    "        for t in T:\n",
    "            if j > i and i == V[0]:       # depot\n",
    "                x[i,j,t] = model.addVar(ub=2, vtype=\"I\", name=\"x(%s,%s,%s)\"%(i,j,t))\n",
    "            elif j > i:\n",
    "                x[i,j,t] = model.addVar(ub=1, vtype=\"I\", name=\"x(%s,%s,%s)\"%(i,j,t))\n",
    "\n",
    "\n",
    "model.update()\n",
    "#for (i,j,t) in x:\n",
    "#    print(x[i,j,t])"
   ]
  },
  {
   "cell_type": "code",
   "execution_count": 23,
   "metadata": {},
   "outputs": [
    {
     "name": "stdout",
     "output_type": "stream",
     "text": [
      "<gurobi.Var y[1,0]>\n",
      "<gurobi.Var y[1,1]>\n",
      "<gurobi.Var y[2,0]>\n",
      "<gurobi.Var y[2,1]>\n",
      "<gurobi.Var y[3,0]>\n",
      "<gurobi.Var y[3,1]>\n",
      "<gurobi.Var y[4,0]>\n",
      "<gurobi.Var y[4,1]>\n",
      "<gurobi.Var y[5,0]>\n",
      "<gurobi.Var y[5,1]>\n",
      "<gurobi.Var y[6,0]>\n",
      "<gurobi.Var y[6,1]>\n",
      "<gurobi.Var y[7,0]>\n",
      "<gurobi.Var y[7,1]>\n",
      "<gurobi.Var y[8,0]>\n",
      "<gurobi.Var y[8,1]>\n",
      "<gurobi.Var y[9,0]>\n",
      "<gurobi.Var y[9,1]>\n"
     ]
    }
   ],
   "source": [
    "y = {}\n",
    "for i in V:\n",
    "    for p in P[i]:\n",
    "        y[i,p] = model.addVar(vtype=\"B\",name = f\"y[{i},{p}]\")\n",
    "        #y[i,p] = model.addVar(lb=0, ub=1.0, vtype=\"S\", name = f\"y[{i},{p}]\")\n",
    "model.update()\n",
    "for (i,p) in y:\n",
    "    print(y[i,p])"
   ]
  },
  {
   "cell_type": "code",
   "execution_count": 24,
   "metadata": {},
   "outputs": [],
   "source": [
    "#制約\n",
    "    \n",
    "#トラックがデポから出発する制約\n",
    "for t in T:\n",
    "    model.addConstr(quicksum(x[V[0],j,t] for j in V[1:]) <= 2*m )\n",
    "\n",
    "#必ず一台の車両により顧客へのサービスが行われる割り当て制約\n",
    "for i in V[1:]:\n",
    "    for t in T:\n",
    "        model.addConstr(quicksum(x[j,i,t] for j in V if j < i) +\n",
    "                        quicksum(x[i,j,t] for j in V if j > i) == \n",
    "                        2 * quicksum(a[i][p][t]* y[i,p]for p in P[i]))\n",
    "\n",
    "#必ず全ての顧客を回る制約\n",
    "for i in V[1:]:\n",
    "    model.addConstr(quicksum(y[i,p] for p in P[i]) == 1)\n",
    "\n",
    "model.update()"
   ]
  },
  {
   "cell_type": "code",
   "execution_count": 25,
   "metadata": {},
   "outputs": [
    {
     "name": "stdout",
     "output_type": "stream",
     "text": [
      "Warning: variables 0 and 108 have the same name \"x(0,1,0)\"\n",
      "Warning: to let Gurobi read it back, use rlp format\n"
     ]
    }
   ],
   "source": [
    "#目的関数\n",
    "model.setObjective(quicksum(c[i,j]*x[i,j,t] \n",
    "                            for i in V\n",
    "                            for j in V \n",
    "                            for t in T\n",
    "                            if j>i), GRB.MINIMIZE)\n",
    "\n",
    "model.update()\n",
    "#model.__data = x\n",
    "model.write(\"sp.lp\")"
   ]
  },
  {
   "cell_type": "code",
   "execution_count": 26,
   "metadata": {},
   "outputs": [
    {
     "name": "stdout",
     "output_type": "stream",
     "text": [
      "Parameter DualReductions unchanged\n",
      "   Value: 0  Min: 0  Max: 1  Default: 1\n",
      "Parameter LazyConstraints unchanged\n",
      "   Value: 1  Min: 0  Max: 1  Default: 0\n",
      "Gurobi Optimizer version 9.0.3 build v9.0.3rc0 (mac64)\n",
      "Optimize a model with 58 rows, 216 columns and 432 nonzeros\n",
      "Model fingerprint: 0x67b437bf\n",
      "Variable types: 0 continuous, 126 integer (36 binary)\n",
      "Semi-Variable types: 90 continuous, 0 integer\n",
      "Coefficient statistics:\n",
      "  Matrix range     [1e+00, 2e+00]\n",
      "  Objective range  [1e+01, 1e+02]\n",
      "  Bounds range     [1e+00, 2e+00]\n",
      "  RHS range        [1e+00, 2e+00]\n",
      "\n",
      "MIP start from previous solve did not produce a new incumbent solution\n",
      "\n",
      "Found heuristic solution: objective 521.7668321\n",
      "Presolve removed 18 rows and 18 columns\n",
      "Presolve time: 0.00s\n",
      "Presolved: 40 rows, 198 columns, 396 nonzeros\n",
      "Variable types: 90 continuous, 108 integer (90 binary)\n",
      "\n",
      "Root relaxation: objective 3.049492e+02, 38 iterations, 0.00 seconds\n",
      "\n",
      "    Nodes    |    Current Node    |     Objective Bounds      |     Work\n",
      " Expl Unexpl |  Obj  Depth IntInf | Incumbent    BestBd   Gap | It/Node Time\n",
      "\n",
      "     0     0  304.94920    0    6  521.76683  304.94920  41.6%     -    0s\n",
      "H    0     0                     406.5115910  304.94920  25.0%     -    0s\n",
      "     0     0  332.06486    0    4  406.51159  332.06486  18.3%     -    0s\n",
      "     0     0  361.77202    0    2  406.51159  361.77202  11.0%     -    0s\n",
      "H    0     0                     384.0874347  361.77202  5.81%     -    0s\n",
      "     0     0  369.90893    0    6  384.08743  369.90893  3.69%     -    0s\n",
      "H    0     0                     370.6365879  369.90893  0.20%     -    0s\n",
      "     0     0  370.15148    0   12  370.63659  370.15148  0.13%     -    0s\n",
      "\n",
      "Cutting planes:\n",
      "  Gomory: 4\n",
      "  Cover: 17\n",
      "  Implied bound: 2\n",
      "  Clique: 19\n",
      "  MIR: 8\n",
      "  Flow cover: 7\n",
      "  RLT: 1\n",
      "  Lazy constraints: 5\n",
      "\n",
      "Explored 1 nodes (94 simplex iterations) in 0.04 seconds\n",
      "Thread count was 8 (of 8 available processors)\n",
      "\n",
      "Solution count 4: 370.637 384.087 406.512 521.767 \n",
      "\n",
      "Optimal solution found (tolerance 1.00e-04)\n",
      "Best objective 3.706365878910e+02, best bound 3.706365878910e+02, gap 0.0000%\n",
      "\n",
      "User-callback calls 99, time in user-callback 0.00 sec\n",
      "Optimal solution: 370.63658789098577\n",
      "Edges in the solution:\n",
      "[(1, 5), (2, 8), (4, 5), (4, 7), (7, 8)]\n"
     ]
    }
   ],
   "source": [
    "model.params.DualReductions = 0\n",
    "model.params.LazyConstraints = 1\n",
    "model.optimize(vrp_callback)\n",
    "#model.optimize()\n",
    "#x = model.__data\n",
    "\n",
    "for t in T:\n",
    "    edges = []\n",
    "    for (i,j,t2) in x:\n",
    "        if x[i,j,t].X > .5:\n",
    "            if t2 == t and i != V[0] and j != V[0]:\n",
    "                    edges.append( (i,j) )\n",
    "\n",
    "print (\"Optimal solution:\",model.ObjVal)\n",
    "print (\"Edges in the solution:\")\n",
    "print (sorted(edges))"
   ]
  },
  {
   "cell_type": "code",
   "execution_count": 27,
   "metadata": {},
   "outputs": [
    {
     "name": "stdout",
     "output_type": "stream",
     "text": [
      "x(1,6,1) 1.0\n",
      "x(1,7,1) 1.0\n",
      "x(2,4,1) 1.0\n",
      "x(2,8,1) 1.0\n",
      "x(3,5,1) 1.0\n",
      "x(3,9,1) 1.0\n",
      "x(4,5,1) 1.0\n",
      "x(6,7,1) 1.0\n",
      "x(8,9,1) 1.0\n",
      "y[1,1] 1.0\n",
      "y[2,1] 1.0\n",
      "y[3,1] 1.0\n",
      "y[4,1] 1.0\n",
      "y[5,1] 1.0\n",
      "y[6,1] 1.0\n",
      "y[7,1] 1.0\n",
      "y[8,1] 1.0\n",
      "y[9,1] 1.0\n",
      "x(0,1,1) 1.0\n",
      "x(0,2,1) 1.0\n",
      "x(0,3,0) 1.0\n",
      "x(0,9,0) 1.0\n",
      "x(1,5,1) 1.0\n",
      "x(2,8,1) 1.0\n",
      "x(3,6,0) 1.0\n",
      "x(4,5,1) 1.0\n",
      "x(4,7,1) 1.0\n",
      "x(6,9,0) 1.0\n",
      "x(7,8,1) 1.0\n",
      "y[1,1] 1.0\n",
      "y[2,1] 1.0\n",
      "y[3,0] 1.0\n",
      "y[4,1] 1.0\n",
      "y[5,1] 1.0\n",
      "y[6,0] 1.0\n",
      "y[7,1] 1.0\n",
      "y[8,1] 1.0\n",
      "y[9,0] 1.0\n"
     ]
    }
   ],
   "source": [
    "#変数の確認\n",
    "for v in model.getVars():\n",
    "    if v.X> 0:\n",
    "        print(v.VarName, v.X)"
   ]
  },
  {
   "cell_type": "code",
   "execution_count": 28,
   "metadata": {},
   "outputs": [
    {
     "name": "stdout",
     "output_type": "stream",
     "text": [
      "Optimal solution: 370.63658789098577\n"
     ]
    }
   ],
   "source": [
    "print (\"Optimal solution:\",model.ObjVal)"
   ]
  },
  {
   "cell_type": "code",
   "execution_count": 29,
   "metadata": {},
   "outputs": [
    {
     "name": "stdout",
     "output_type": "stream",
     "text": [
      "最適距離: 370.63658789098577\n"
     ]
    }
   ],
   "source": [
    "opt = model.ObjVal\n",
    "print(f\"最適距離: {opt}\")"
   ]
  },
  {
   "cell_type": "code",
   "execution_count": 30,
   "metadata": {},
   "outputs": [
    {
     "data": {
      "text/plain": [
       "2"
      ]
     },
     "execution_count": 30,
     "metadata": {},
     "output_type": "execute_result"
    }
   ],
   "source": [
    "model.status"
   ]
  },
  {
   "cell_type": "code",
   "execution_count": 31,
   "metadata": {},
   "outputs": [],
   "source": [
    "#変数の確認\n",
    "#for v in model.getVars():\n",
    "#    if v.X> 0:\n",
    "#        print(v.VarName, v.X)"
   ]
  },
  {
   "cell_type": "markdown",
   "metadata": {},
   "source": [
    " # ルートの可視化"
   ]
  },
  {
   "cell_type": "code",
   "execution_count": 32,
   "metadata": {},
   "outputs": [
    {
     "data": {
      "image/png": "[encoded data removed]",
      "text/plain": [
       "<Figure size 288x288 with 1 Axes>"
      ]
     },
     "metadata": {
      "needs_background": "light"
     },
     "output_type": "display_data"
    }
   ],
   "source": [
    "plt.figure(figsize=(4, 4))\n",
    "plt.scatter(x_y[:, 0], x_y[:, 1], c='b')\n",
    "#plt.text(x_y[:,0]+1,x_y[:,1]+1, str(V[0:]))\n",
    "plt.scatter(x_y[0][0],x_y[0][1],c=\"r\")#デポを描画\n",
    "plt.text(x_y[0][0],x_y[0][1], \"depot\")\n",
    "\n",
    "for t in T:\n",
    "    for i in V:\n",
    "        for j in V:\n",
    "            if i < j and x[i,j,t].x >= 0.9:\n",
    "                plt.plot([x_y[i][0],x_y[j][0]], [x_y[i][1], x_y[j][1]], c=\"black\")\n",
    "plt.show()"
   ]
  },
  {
   "cell_type": "code",
   "execution_count": 42,
   "metadata": {},
   "outputs": [
    {
     "name": "stdout",
     "output_type": "stream",
     "text": [
      "1\n",
      "False\n",
      "start=1\n",
      "4\n",
      "False\n",
      "start=4\n",
      "7\n",
      "False\n",
      "start=7\n",
      "-1\n",
      "True\n"
     ]
    }
   ],
   "source": [
    "s = 'abcabcabc'\n",
    "target = 'b'\n",
    "index = -1\n",
    "while True:\n",
    "    index = s.find(target, index + 1)\n",
    "    print(index)\n",
    "    print(bool(index == -1))\n",
    "    if index == -1:\n",
    "        break\n",
    "    print('start=%d' % index)"
   ]
  },
  {
   "cell_type": "code",
   "execution_count": 153,
   "metadata": {},
   "outputs": [
    {
     "data": {
      "image/png": "[encoded data removed]",
      "text/plain": [
       "<Figure size 288x288 with 1 Axes>"
      ]
     },
     "metadata": {
      "needs_background": "light"
     },
     "output_type": "display_data"
    }
   ],
   "source": [
    "#１日目\n",
    "plt.figure(figsize=(4, 4))\n",
    "plt.scatter(x_y[:, 0], x_y[:, 1], c='b')\n",
    "#plt.text(x_y[:,0]+1,x_y[:,1]+1, str(V[0:]))\n",
    "plt.scatter(x_y[0][0],x_y[0][1],c=\"r\")#デポを描画\n",
    "plt.text(x_y[0][0],x_y[0][1], \"depot\")\n",
    "\n",
    "for t in T:\n",
    "    if t == 0:\n",
    "        for i in V:\n",
    "            for j in V:\n",
    "                if i < j and x[i,j,t].x >= 0.9:\n",
    "                    plt.plot([x_y[i][0],x_y[j][0]], [x_y[i][1], x_y[j][1]], c=\"black\")\n",
    "plt.show()"
   ]
  },
  {
   "cell_type": "code",
   "execution_count": 154,
   "metadata": {},
   "outputs": [
    {
     "data": {
      "image/png": "[encoded data removed]",
      "text/plain": [
       "<Figure size 288x288 with 1 Axes>"
      ]
     },
     "metadata": {
      "needs_background": "light"
     },
     "output_type": "display_data"
    }
   ],
   "source": [
    "#2日目\n",
    "plt.figure(figsize=(4, 4))\n",
    "plt.scatter(x_y[:, 0], x_y[:, 1], c='b')\n",
    "#plt.text(x_y[:,0]+1,x_y[:,1]+1, str(V[0:]))\n",
    "plt.scatter(x_y[0][0],x_y[0][1],c=\"r\")#デポを描画\n",
    "plt.text(x_y[0][0],x_y[0][1], \"depot\")\n",
    "\n",
    "for t in T:\n",
    "    if t == 1:\n",
    "        for i in V:\n",
    "            for j in V:\n",
    "                if i < j and x[i,j,t].x >= 0.9:\n",
    "                    plt.plot([x_y[i][0],x_y[j][0]], [x_y[i][1], x_y[j][1]], c=\"black\")\n",
    "plt.show()"
   ]
  },
  {
   "cell_type": "code",
   "execution_count": 56,
   "metadata": {
    "collapsed": true,
    "jupyter": {
     "outputs_hidden": true
    }
   },
   "outputs": [
    {
     "name": "stdout",
     "output_type": "stream",
     "text": [
      "Changed value of parameter DualReductions to 0\n",
      "   Prev: 1  Min: 0  Max: 1  Default: 1\n",
      "Changed value of parameter LazyConstraints to 1\n",
      "   Prev: 0  Min: 0  Max: 1  Default: 0\n",
      "Optimize a model with 59 rows, 418 columns and 836 nonzeros\n",
      "Variable types: 0 continuous, 418 integer (38 binary)\n",
      "Coefficient statistics:\n",
      "  Matrix range     [1e+00, 2e+00]\n",
      "  Objective range  [7e+00, 1e+02]\n",
      "  Bounds range     [1e+00, 2e+00]\n",
      "  RHS range        [1e+00, 4e+00]\n",
      "Presolve removed 19 rows and 19 columns\n",
      "Presolve time: 0.00s\n",
      "Presolved: 40 rows, 399 columns, 798 nonzeros\n",
      "Variable types: 0 continuous, 399 integer (361 binary)\n",
      "\n",
      "Root relaxation: objective 3.614545e+02, 49 iterations, 0.00 seconds\n",
      "\n",
      "    Nodes    |    Current Node    |     Objective Bounds      |     Work\n",
      " Expl Unexpl |  Obj  Depth IntInf | Incumbent    BestBd   Gap | It/Node Time\n",
      "\n",
      "     0     0  361.45451    0   16          -  361.45451      -     -    0s\n",
      "     0     0  395.71121    0    6          -  395.71121      -     -    0s\n",
      "     0     0  419.62392    0   28          -  419.62392      -     -    0s\n",
      "H    0     0                     557.9108140  419.62392  24.8%     -    0s\n",
      "     0     0  426.85803    0    1  557.91081  426.85803  23.5%     -    0s\n",
      "     0     0  435.69629    0   13  557.91081  435.69629  21.9%     -    0s\n",
      "     0     0  450.16184    0    2  557.91081  450.16184  19.3%     -    0s\n",
      "H    0     0                     557.4474342  450.16184  19.2%     -    0s\n",
      "     0     0  457.20603    0    5  557.44743  457.20603  18.0%     -    0s\n",
      "H    0     0                     536.7582634  457.20603  14.8%     -    0s\n",
      "     0     0  461.68010    0   43  536.75826  461.68010  14.0%     -    0s\n",
      "     0     0  461.90464    0   39  536.75826  461.90464  13.9%     -    0s\n",
      "     0     0  461.90464    0   37  536.75826  461.90464  13.9%     -    0s\n",
      "     0     0  461.90464    0   27  536.75826  461.90464  13.9%     -    0s\n",
      "     0     2  461.90464    0   27  536.75826  461.90464  13.9%     -    0s\n",
      "*  796   530              19     534.7633331  471.99317  11.7%   8.0    0s\n",
      "* 1142   445              19     483.1713306  478.59150  0.95%   8.8    2s\n",
      "\n",
      "Cutting planes:\n",
      "  Gomory: 9\n",
      "  Cover: 19\n",
      "  Clique: 4\n",
      "  MIR: 5\n",
      "  Flow cover: 14\n",
      "  Zero half: 1\n",
      "  Lazy constraints: 53\n",
      "\n",
      "Explored 1168 nodes (10657 simplex iterations) in 2.79 seconds\n",
      "Thread count was 4 (of 4 available processors)\n",
      "\n",
      "Solution count 5: 483.171 534.763 536.758 ... 557.911\n",
      "\n",
      "Optimal solution found (tolerance 1.00e-04)\n",
      "Best objective 4.831713306242e+02, best bound 4.831713306242e+02, gap 0.0000%\n",
      "Optimal solution: 483.17133062417514\n",
      "Edges in the solution:\n",
      "[(1, 18), (2, 16), (3, 15), (4, 5), (6, 9), (7, 14), (8, 13), (10, 19), (11, 15), (12, 17)]\n"
     ]
    }
   ],
   "source": [
    "import math\n",
    "import random\n",
    "import networkx\n",
    "from gurobipy import *\n",
    "\n",
    "def vrp(V,c,m,q,Q,T,P):\n",
    "    \n",
    "    def vrp_callback(model,where):\n",
    "        if where != GRB.callback.MIPSOL:#新しい解を発見した時だけ部分巡回路除去制約を追加\n",
    "            return\n",
    "        for t in T:\n",
    "            edges = []\n",
    "            for (i,j,t2) in x:\n",
    "                if model.cbGetSolution(x[i,j,t]) > .5:\n",
    "                    if t == t2 and i != V[0] and j != V[0]:\n",
    "                        edges.append( (i,j) )\n",
    "            #print(\"#############\")\n",
    "            G = networkx.Graph()\n",
    "            G.add_edges_from(edges)\n",
    "            Components = networkx.connected_components(G)\n",
    "            for S in Components:\n",
    "                S_card = len(S)\n",
    "                q_sum = sum(q[i] for i in S)\n",
    "                NS = int(math.ceil(float(q_sum)/Q))\n",
    "                S_edges = [(i,j) \n",
    "                           for i in S \n",
    "                           for j in S\n",
    "                           if i<j and (i,j) in edges]\n",
    "                if S_card >= 3 and (len(S_edges) >= S_card or NS > 1):\n",
    "                    model.cbLazy(quicksum(x[i,j,t]\n",
    "                                          for i in S \n",
    "                                          for j in S \n",
    "                                          for t in T \n",
    "                                          if j > i) <= S_card-NS)\n",
    "                    #print (\"adding cut for\" , S_edges)\n",
    "        return\n",
    "\n",
    "\n",
    "    model = Model(\"vrp\")\n",
    "    \n",
    "    #変数\n",
    "    \n",
    "    x = {}\n",
    "    for i in V:\n",
    "        for j in V:\n",
    "            for t in T:\n",
    "                if j > i and i == V[0]:       # depot\n",
    "                        x[i,j,t] = model.addVar(ub=2, vtype=\"I\", name=\"x(%s,%s,%s)\"%(i,j,t))\n",
    "                elif j > i:\n",
    "                    x[i,j,t] = model.addVar(ub=1, vtype=\"I\", name=\"x(%s,%s,%s)\"%(i,j,t))\n",
    "\n",
    "    #print(x)\n",
    "    y = {}\n",
    "    for i in V:\n",
    "        for p in P[i]:\n",
    "            y[i,p] = model.addVar(vtype=\"B\",name = f\"y[{i},{p}]\")\n",
    "    #print(y)\n",
    "    model.update()\n",
    "    \n",
    "    #制約\n",
    "    \n",
    "    #トラックがデポから出発する制約\n",
    "    for t in T:\n",
    "        model.addConstr(quicksum(x[V[0],j,t] for j in V[1:]) <= 2*m )\n",
    "        \n",
    "    #必ず一台の車両により顧客へのサービスが行われる割り当て制約\n",
    "    for i in V[1:]:\n",
    "        for t in T:\n",
    "            model.addConstr(quicksum(x[j,i,t] for j in V if j < i) +\n",
    "                            quicksum(x[i,j,t] for j in V if j > i) == \n",
    "                            2 * quicksum(a[i][p][t]* y[i,p]for p in P[i]))\n",
    "            \n",
    "    #必ず全ての顧客を回る制約\n",
    "    for i in V[1:]:\n",
    "        model.addConstr(quicksum(y[i,p] for p in P[i]) == 1)\n",
    "        \n",
    "    model.update()\n",
    "    \n",
    "    #目的関数\n",
    "    model.setObjective(quicksum(c[i,j]*x[i,j,t] \n",
    "                                for i in V\n",
    "                                for j in V \n",
    "                                for t in T\n",
    "                                if j>i), GRB.MINIMIZE)\n",
    "\n",
    "    model.update()\n",
    "    model.__data = x\n",
    "    return model,vrp_callback\n",
    "\n",
    "\n",
    "\n",
    "    \n",
    "            \n",
    "if __name__ == \"__main__\":\n",
    "    import sys\n",
    "\n",
    "    model,vrp_callback = vrp(V,c,m,q,Q,T,P)\n",
    "\n",
    "    model.params.DualReductions = 0\n",
    "    model.params.LazyConstraints = 1\n",
    "    model.optimize(vrp_callback)\n",
    "    x = model.__data\n",
    "    \n",
    "    \"\"\"for t in T:\n",
    "        edges = []\n",
    "        for (i,j,t2) in x:\n",
    "            if x[i,j,t2].X > 5:\n",
    "                if t2 == t and i != V[0] and j != V[0]:\n",
    "                    edges.append( (i,j) )\"\"\"\n",
    "\n",
    "    print (\"Optimal solution:\",model.ObjVal)\n",
    "    print (\"Edges in the solution:\")\n",
    "    print (sorted(edges))"
   ]
  }
 ],
 "metadata": {
  "kernelspec": {
   "display_name": "Python 3",
   "language": "python",
   "name": "python3"
  },
  "language_info": {
   "codemirror_mode": {
    "name": "ipython",
    "version": 3
   },
   "file_extension": ".py",
   "mimetype": "text/x-python",
   "name": "python",
   "nbconvert_exporter": "python",
   "pygments_lexer": "ipython3",
   "version": "3.6.10"
  }
 },
 "nbformat": 4,
 "nbformat_minor": 4
}
