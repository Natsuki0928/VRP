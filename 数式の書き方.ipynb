{
 "cells": [
  {
   "cell_type": "markdown",
   "metadata": {},
   "source": [
    "https://qiita.com/PlanetMeron/items/63ac58898541cbe81ada"
   ]
  },
  {
   "cell_type": "markdown",
   "metadata": {},
   "source": [
    "$$\n",
    "    y = ax\n",
    "$$"
   ]
  },
  {
   "cell_type": "markdown",
   "metadata": {},
   "source": [
    "お $ \\pi $ ლ(╹◡╹ლ)"
   ]
  },
  {
   "cell_type": "markdown",
   "metadata": {},
   "source": [
    "$$\n",
    "    % 空白は表示に影響しない。コメントは\"%\"で始める\n",
    "    % 下付き文字は\"_a\"、上付き文字は\"^a\"\n",
    "    % 改行は\"\\\\\"を付ける\n",
    "    y_1 = ax^2 \\\\\n",
    "    % 複数文字を1要素とする際は{...}で囲う\n",
    "    % 空白は\"\\quad\"\n",
    "    y_2 = ax^{10} \\quad y_3 = ax \\\\\n",
    "$$"
   ]
  },
  {
   "cell_type": "markdown",
   "metadata": {},
   "source": [
    "$$\n",
    "    % \\begin{hoge}...\\end{hoge} と書くことで幾つかの文章様式が表現可能 (texでは環境と呼ぶようです)\n",
    "    % align環境を使うと複数の式を&で位置合わせできる\n",
    "    \\begin{align}\n",
    "        % 奇数番目の&で場所が縦に揃う\n",
    "        % 偶数番目の&はタブスペースになる\n",
    "        % \\tag で式に番号が振ることも出来る\n",
    "        a_1   &= ax_1 & a_2   &= ax_2  \\tag{1} \\\\\n",
    "        bb_1  &= ax_1 & bb_2  &= ax_2  \\tag{2} \\\\\n",
    "        ccc_1 &= ax_1 & ccc_2 &= ax_2\n",
    "    \\end{align}\n",
    "$$\n"
   ]
  },
  {
   "cell_type": "markdown",
   "metadata": {},
   "source": [
    "$\n",
    "    \\begin{align}\n",
    "        % 各種演算子の書き方\n",
    "        y &= ax     & y &> ax  & y \\geqq ax \\\\\n",
    "        y &\\neq ax  & y &< ax  & y \\leqq ax \\\\\n",
    "    \\end{align}\n",
    "$$\n",
    "yy=ax"
   ]
  },
  {
   "cell_type": "markdown",
   "metadata": {},
   "source": [
    "$$\n",
    "    % \"boldsymbol\"で太字にしている\n",
    "    \\boldsymbol{v} =\n",
    "        % ベクトルや行列は\"left[\"と\"right]\"でベクトルや行列の括弧を作る\n",
    "        % 括弧内に\"array\"環境を展開する\n",
    "        % {c|cc}の形で中央揃え、縦線、中央揃え*2の並びに出来る\n",
    "        \\left[\\begin{array}{c}\n",
    "            2 \\\\\n",
    "            3 \\\\\n",
    "        \\end{array}\\right] \\quad\n",
    "    \\boldsymbol{M} =\n",
    "        \\left[\\begin{array}{c|cc}\n",
    "            % 横並びは&を挟む\n",
    "            1 & 2 & 4 \\\\\n",
    "            % 水平線は\\\\hlineを使う\n",
    "            \\hline\n",
    "            2 & 3 & 5 \\\\\n",
    "        \\end{array}\\right] \\quad\n",
    "$$"
   ]
  },
  {
   "cell_type": "markdown",
   "metadata": {},
   "source": [
    "$$\n",
    "    |\\boldsymbol{a}| = \\sqrt{a_0^2+a_1^2}\n",
    "$$\n",
    "\n"
   ]
  },
  {
   "cell_type": "markdown",
   "metadata": {},
   "source": [
    "$$\n",
    "    a = \\sum_{i=0}^{n}2a \\quad\n",
    "    b = \\prod_{i=0}^{n}2b\n",
    "$$\n"
   ]
  },
  {
   "cell_type": "markdown",
   "metadata": {},
   "source": [
    "$$\n",
    "    y = \\frac{2}{3}\n",
    "$$"
   ]
  },
  {
   "cell_type": "markdown",
   "metadata": {},
   "source": [
    "$$\n",
    "    \\frac{d}{d x} x^2 = 2x \\\\\n",
    "    \\frac{\\partial}{\\partial x} x^2 + a = 2x\n",
    "$$\n"
   ]
  },
  {
   "cell_type": "markdown",
   "metadata": {},
   "source": [
    "$$\n",
    "    \\boldsymbol{A} =\n",
    "        \\left[\\begin{array}{ccc}\n",
    "            a_{0,0} & \\cdots & a_{0,x} \\\\\n",
    "            \\vdots  & \\ddots & \\vdots \\\\\n",
    "            a_{y,0} & \\cdots & a_{y,x} \\\\\n",
    "        \\end{array}\\right]\n",
    "$$\n"
   ]
  },
  {
   "cell_type": "markdown",
   "metadata": {},
   "source": [
    "$\n",
    "    ReLU(x) =\n",
    "        \\begin{cases}\n",
    "            x \\quad x \\geqq 0 \\\\\n",
    "            0 \\quad x < 0 \\\\\n",
    "        \\end{cases}\n",
    "$$\n"
   ]
  },
  {
   "cell_type": "markdown",
   "metadata": {},
   "source": [
    "記号\n",
    "\n",
    "$\n",
    "\\pi\n",
    "\\exp(x)\n",
    "\\ln(x)\n",
    "\\delta\n",
    "\\odot\n",
    "$$"
   ]
  },
  {
   "cell_type": "markdown",
   "metadata": {},
   "source": [
    "$\n",
    "\\tilde{a}　\\hat{a}\n",
    "$"
   ]
  },
  {
   "cell_type": "markdown",
   "metadata": {},
   "source": [
    "$$\n",
    "f(x) = \\left\\{\n",
    "\\begin{array}{ll}\n",
    "1 & (x \\geq 0) \\\\\n",
    "0 & (x \\lt 0)\n",
    "\\end{array}\n",
    "\\right.\n",
    "$$"
   ]
  },
  {
   "cell_type": "markdown",
   "metadata": {},
   "source": [
    "$$a \\Biggl(\n",
    "b \\biggl(\n",
    "c \\Bigl(\n",
    "d \\bigl(\n",
    "e ( f + g )\n",
    "\\bigr)\n",
    "\\Bigr)\n",
    "\\biggr)\n",
    "\\Biggr)\n",
    "$$"
   ]
  },
  {
   "cell_type": "code",
   "execution_count": null,
   "metadata": {},
   "outputs": [],
   "source": []
  }
 ],
 "metadata": {
  "kernelspec": {
   "display_name": "Python 3",
   "language": "python",
   "name": "python3"
  },
  "language_info": {
   "codemirror_mode": {
    "name": "ipython",
    "version": 3
   },
   "file_extension": ".py",
   "mimetype": "text/x-python",
   "name": "python",
   "nbconvert_exporter": "python",
   "pygments_lexer": "ipython3",
   "version": "3.7.1"
  }
 },
 "nbformat": 4,
 "nbformat_minor": 2
}
