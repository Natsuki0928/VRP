{
 "cells": [
  {
   "cell_type": "markdown",
   "metadata": {
    "slideshow": {
     "slide_type": "-"
    }
   },
   "source": [
    " # PVRP"
   ]
  },
  {
   "cell_type": "markdown",
   "metadata": {},
   "source": [
    "従来のVRPでは、通常、計画期間は1日です。 Period Vehicle Routing Problem（PVRP）の場合、従来のVRPは計画期間をM日まで延長することにより一般化されます。\n",
    "\n",
    "目的：目的は、車両群とすべての顧客に供給するために必要な移動時間の合計を最小限にすることです。"
   ]
  },
  {
   "cell_type": "markdown",
   "metadata": {},
   "source": [
    "### データの読み方\n",
    "index =顧客番号\n",
    "\n",
    "x = x座標\n",
    "\n",
    "y = y座標\n",
    "\n",
    "d =サービス期間\n",
    "\n",
    "q =需要\n",
    "\n",
    "f =訪問の頻度\n",
    "\n",
    "a =可能な訪問の組み合わせの数\n",
    "\n",
    "list =すべての可能な訪問の組み合わせのリスト"
   ]
  },
  {
   "cell_type": "markdown",
   "metadata": {},
   "source": [
    " ## 定式化"
   ]
  },
  {
   "cell_type": "markdown",
   "metadata": {},
   "source": [
    "$$\n",
    "minimize \\sum_{ij}^{}c_{ij}x_{ijt} \\quad　(i<j)\n",
    "$$\n",
    "\n",
    "$$\n",
    "s. t \\sum_{j}^{}x_{0jt}\\quad <= 2m   \\quad\\forall{t}\\in{T})\n",
    "$$\n",
    "\n",
    "$$\n",
    " \\sum_{i}^{}x_{ijt}+\\sum_{j}^{}x_{jit} = 2\\sum_{p}a_{ipt}y_{ip}(\\forall{i,t}\\in{N,T})\n",
    "$$\n",
    "\n",
    "$$\n",
    "\\sum_{i}^{}y_{ip}\\quad = 1 \\quad \\forall{}\n",
    "$$"
   ]
  },
  {
   "cell_type": "markdown",
   "metadata": {},
   "source": [
    " ### ●目的\n",
    " 移動時間の合計（コスト）を最小化\n"
   ]
  },
  {
   "cell_type": "markdown",
   "metadata": {},
   "source": [
    " ### ●制約\n",
    "点０からでる枝の数は２m本\n",
    "\n",
    "必ず１度は全ての点を通る\n",
    "\n",
    "必ずパターンのどれか一つを選ぶ\n",
    "\n",
    "部分閉路禁止"
   ]
  },
  {
   "cell_type": "markdown",
   "metadata": {},
   "source": [
    " ### ●変数\n",
    "**$C_{ij}$:点iから点jに移動するときの費用**\n",
    "\n",
    "**$x_{ijt}$:運搬車が点iから点jにt日に移動する回数を表す変数**\n",
    "\n",
    "**$y_{ip}$:どのパターン（p）で点iに訪れるか**\n",
    "\n",
    "＊mは車両数"
   ]
  },
  {
   "cell_type": "markdown",
   "metadata": {},
   "source": [
    "## 必要なライブラリのインポート "
   ]
  },
  {
   "cell_type": "code",
   "execution_count": 40,
   "metadata": {},
   "outputs": [],
   "source": [
    "import pandas as pd\n",
    "import numpy as np\n",
    "import matplotlib.pyplot as plt\n",
    "%matplotlib inline\n",
    "import networkx"
   ]
  },
  {
   "cell_type": "code",
   "execution_count": 107,
   "metadata": {},
   "outputs": [
    {
     "name": "stdout",
     "output_type": "stream",
     "text": [
      "\n"
     ]
    }
   ],
   "source": [
    "f = open(\"c-pvrp/p02\").read()\n",
    "print()\n",
    "L = [tuple(map(int , i.split())) for i in f.split(\"\\n\") if i != \"\"]\n",
    "#for i in L:\n",
    "#    if i in \" \":\n",
    "#        L.remove(i)      \n",
    "#print(L)\n",
    "m = int(L[0][1])\n",
    "#K = [k for k in range(1,int(L[0][1])+1)] #トラックの集合\n",
    "#N = [i for i in range(int(L[0][2])+1)] #デポと顧客の集合\n",
    "#T = [t for t in range(1,int(L[0][3])+1)]#days\n",
    "T = [t for t in range(int(L[0][3]))]"
   ]
  },
  {
   "cell_type": "code",
   "execution_count": 108,
   "metadata": {},
   "outputs": [],
   "source": [
    "V, x_y , d  , qq, f , al , li = [] , [] , [] , [] , [] , [] , []\n",
    "day = L[0][3]\n",
    "#Q = L[1][1]\n",
    "Q = 250\n",
    "depo = L[day+1][1:3]\n",
    "pat = [()]\n",
    "for i in range(day+1,len(L)):\n",
    "    V.append(int(L[i][0]))#デポと顧客の集合\n",
    "    x_y.append((int(L[i][1]),int(L[i][2])))\n",
    "    d.append(int(L[i][3])) #サービス期間\n",
    "    qq.append(int(L[i][4])) #顧客ごとの需要\n",
    "    f.append(int(L[i][5])) #訪問頻度\n",
    "    al.append(int(L[i][6])) #訪問パターンの総数\n",
    "    li.append(tuple(L[i][7:]))  "
   ]
  },
  {
   "cell_type": "code",
   "execution_count": 109,
   "metadata": {},
   "outputs": [],
   "source": [
    "#コスト\n",
    "c = {}\n",
    "for i in range(len(x_y)):\n",
    "    n = 1\n",
    "    while i+n < len(x_y):\n",
    "        di = np.sqrt((x_y[i][0] - x_y[i+n][0])**2 + (x_y[i][1] - x_y[i+n][1])**2 )\n",
    "        c[i,i+n] = di\n",
    "        n += 1"
   ]
  },
  {
   "cell_type": "code",
   "execution_count": 110,
   "metadata": {},
   "outputs": [],
   "source": [
    "q = {}\n",
    "for i in V:\n",
    "    q[i] = qq[i]"
   ]
  },
  {
   "cell_type": "markdown",
   "metadata": {},
   "source": [
    "liリストは配達パターン。二進数から１０進数へ変換されている\n",
    "\n",
    "1日目に配達するなら10で2\n",
    "\n",
    "2日目に配達するなら01で1"
   ]
  },
  {
   "cell_type": "code",
   "execution_count": 111,
   "metadata": {},
   "outputs": [],
   "source": [
    "pat = []\n",
    "for i in range(1,len(li)):\n",
    "    ll = []\n",
    "    for j in range(len(li[i])):\n",
    "        ll.append((format(li[i][j],'b').zfill(day)))\n",
    "    pat.append(ll)"
   ]
  },
  {
   "cell_type": "code",
   "execution_count": 112,
   "metadata": {},
   "outputs": [],
   "source": [
    "a = [()]\n",
    "P = [()]\n",
    "for i1 in pat:\n",
    "    ml = []\n",
    "    for i2 in i1[::-1]:\n",
    "        ll = []\n",
    "        for i3 in i2:\n",
    "            ll.append(int(i3))\n",
    "        ml.append(ll)\n",
    "    patdata = np.array(ml)\n",
    "    n_pat = [i for i in range(len(patdata))]\n",
    "    #print(patdata)\n",
    "    a.append(patdata)\n",
    "    P.append(n_pat)"
   ]
  },
  {
   "cell_type": "markdown",
   "metadata": {},
   "source": [
    " # デポと顧客位置の可視化"
   ]
  },
  {
   "cell_type": "code",
   "execution_count": 113,
   "metadata": {},
   "outputs": [
    {
     "name": "stdout",
     "output_type": "stream",
     "text": [
      "[[ 0. 14. 21. 33. 17. 14. 11. 26. 22. 23.]\n",
      " [14.  0. 12. 19. 31. 22. 17. 23. 12. 24.]\n",
      " [21. 12.  0. 15. 37. 21. 28. 35. 22. 16.]\n",
      " [33. 19. 15.  0. 50. 36. 35. 35. 21. 31.]\n",
      " [17. 31. 37. 50.  0. 20. 21. 37. 38. 33.]\n",
      " [14. 22. 21. 36. 20.  0. 25. 40. 33. 12.]\n",
      " [11. 17. 28. 35. 21. 25.  0. 16. 18. 34.]\n",
      " [26. 23. 35. 35. 37. 40. 16.  0. 14. 46.]\n",
      " [22. 12. 22. 21. 38. 33. 18. 14.  0. 36.]\n",
      " [23. 24. 16. 31. 33. 12. 34. 46. 36.  0.]]\n"
     ]
    }
   ],
   "source": [
    "import numpy as np\n",
    "x_y = np.array(x_y)\n",
    "x = x_y[:, 0]\n",
    "y = x_y[:, 1]\n",
    "distance = np.sqrt((x[:, np.newaxis] - x[np.newaxis, :]) ** 2 +(y[:, np.newaxis] - y[np.newaxis, :]) ** 2)\n",
    "# distance[i, j]が都市iと都市jの距離。10個だけ\n",
    "print(np.round(distance[:10, :10]))"
   ]
  },
  {
   "cell_type": "code",
   "execution_count": 114,
   "metadata": {},
   "outputs": [
    {
     "data": {
      "image/png": "[encoded data removed]",
      "text/plain": [
       "<Figure size 432x288 with 1 Axes>"
      ]
     },
     "metadata": {
      "needs_background": "light"
     },
     "output_type": "display_data"
    }
   ],
   "source": [
    "plt.plot(x_y[:, 0], x_y[:, 1], 'o')#\"o\"は小さい点\n",
    "plt.plot(x_y[0][0],x_y[0][1],\"ro\")#デポを描画\n",
    "plt.text(x_y[0][0],x_y[0][1], \"depot\")\n",
    "plt.show()"
   ]
  },
  {
   "cell_type": "markdown",
   "metadata": {},
   "source": [
    "# gurobiでとく"
   ]
  },
  {
   "cell_type": "code",
   "execution_count": 115,
   "metadata": {},
   "outputs": [],
   "source": [
    "import math\n",
    "import random\n",
    "import networkx\n",
    "from gurobipy import *"
   ]
  },
  {
   "cell_type": "code",
   "execution_count": 116,
   "metadata": {},
   "outputs": [],
   "source": [
    "model = Model(\"pvrp\")"
   ]
  },
  {
   "cell_type": "code",
   "execution_count": 117,
   "metadata": {},
   "outputs": [],
   "source": [
    "#変数\n",
    "x = {}\n",
    "for i in V:\n",
    "    \n",
    "    for j in V:\n",
    "        for t in T:\n",
    "            if j > i and i == V[0]:       # depot\n",
    "                x[i,j,t] = model.addVar(ub=2, vtype=\"I\", name=\"x(%s,%s,%s)\"%(i,j,t))\n",
    "            elif j > i:\n",
    "                x[i,j,t] = model.addVar(ub=1, vtype=\"I\", name=\"x(%s,%s,%s)\"%(i,j,t))\n",
    "\n",
    "\n",
    "model.update()\n",
    "#for (i,j,t) in x:\n",
    "#    print(x[i,j,t])"
   ]
  },
  {
   "cell_type": "code",
   "execution_count": 118,
   "metadata": {},
   "outputs": [],
   "source": [
    "y = {}\n",
    "for i in V:\n",
    "    for p in P[i]:\n",
    "        #y[i,p] = model.addVar(vtype=\"B\",name = f\"y[{i},{p}]\")\n",
    "        y[i,p] = model.addVar(lb=0, ub=1.0, vtype=\"S\", name = f\"y[{i},{p}]\")\n",
    "model.update()\n",
    "#for (i,p) in y:\n",
    "#    print(y[i,p])"
   ]
  },
  {
   "cell_type": "code",
   "execution_count": 119,
   "metadata": {},
   "outputs": [],
   "source": [
    "#制約\n",
    "    \n",
    "#トラックがデポから出発する制約\n",
    "for t in T:\n",
    "    model.addConstr(quicksum(x[V[0],j,t] for j in V[1:]) <= 2*m )\n",
    "\n",
    "#必ず一台の車両により顧客へのサービスが行われる割り当て制約\n",
    "for i in V[1:]:\n",
    "    for t in T:\n",
    "        model.addConstr(quicksum(x[j,i,t] for j in V if j < i) +\n",
    "                        quicksum(x[i,j,t] for j in V if j > i) == \n",
    "                        2 * quicksum(a[i][p][t]* y[i,p]for p in P[i]))\n",
    "\n",
    "#必ず全ての顧客を回る制約\n",
    "for i in V[1:]:\n",
    "    model.addConstr(quicksum(y[i,p] for p in P[i]) == 1)\n",
    "\n",
    "model.update()"
   ]
  },
  {
   "cell_type": "code",
   "execution_count": 120,
   "metadata": {},
   "outputs": [],
   "source": [
    "def vrp_callback(model,where):\n",
    "    if where != GRB.callback.MIPSOL:#新しい解を発見した時だけ部分巡回路除去制約を追加\n",
    "        return\n",
    "    for t in T:\n",
    "        edges = []\n",
    "        for (i,j,t2) in x:\n",
    "            if model.cbGetSolution(x[i,j,t]) > .5:\n",
    "                if t == t2 and i != V[0] and j != V[0]:\n",
    "                    edges.append( (i,j) )\n",
    "        #print(\"#############\")\n",
    "        G = networkx.Graph()\n",
    "        G.add_edges_from(edges)\n",
    "        Components = networkx.connected_components(G)\n",
    "        for S in Components:\n",
    "            S_card = len(S)\n",
    "            q_sum = sum(q[i] for i in S)\n",
    "            NS = int(math.ceil(float(q_sum)/Q))\n",
    "            S_edges = [(i,j) \n",
    "                       for i in S \n",
    "                       for j in S\n",
    "                       if i<j and (i,j) in edges]\n",
    "            if S_card >= 3 and (len(S_edges) >= S_card or NS > 1):\n",
    "                model.cbLazy(quicksum(x[i,j,t]\n",
    "                                      for i in S \n",
    "                                      for j in S \n",
    "                                      for t in T \n",
    "                                      if j > i) <= S_card-NS)\n",
    "                #print (\"adding cut for\" , S_edges)\n",
    "    return"
   ]
  },
  {
   "cell_type": "code",
   "execution_count": 121,
   "metadata": {},
   "outputs": [],
   "source": [
    "#目的関数\n",
    "model.setObjective(quicksum(c[i,j]*x[i,j,t] \n",
    "                            for i in V\n",
    "                            for j in V \n",
    "                            for t in T\n",
    "                            if j>i), GRB.MINIMIZE)\n",
    "\n",
    "model.update()\n",
    "#model.__data = x"
   ]
  },
  {
   "cell_type": "code",
   "execution_count": 126,
   "metadata": {},
   "outputs": [
    {
     "name": "stdout",
     "output_type": "stream",
     "text": [
      "Parameter DualReductions unchanged\n",
      "   Value: 0  Min: 0  Max: 1  Default: 1\n",
      "Parameter LazyConstraints unchanged\n",
      "   Value: 1  Min: 0  Max: 1  Default: 0\n",
      "Gurobi Optimizer version 9.0.3 build v9.0.3rc0 (mac64)\n",
      "Optimize a model with 305 rows, 6545 columns and 13196 nonzeros\n",
      "Model fingerprint: 0x62a19859\n",
      "Variable types: 0 continuous, 6375 integer (0 binary)\n",
      "Semi-Variable types: 170 continuous, 0 integer\n",
      "Coefficient statistics:\n",
      "  Matrix range     [1e+00, 2e+00]\n",
      "  Objective range  [2e+00, 9e+01]\n",
      "  Bounds range     [1e+00, 2e+00]\n",
      "  RHS range        [1e+00, 6e+00]\n",
      "Presolved: 161 rows, 6401 columns, 12854 nonzeros\n",
      "\n",
      "Continuing optimization...\n",
      "\n",
      "\n",
      "Cutting planes:\n",
      "  Gomory: 2\n",
      "  MIR: 1\n",
      "  Zero half: 2\n",
      "\n",
      "Explored 1 nodes (3427 simplex iterations) in 0.04 seconds\n",
      "Thread count was 8 (of 8 available processors)\n",
      "\n",
      "Solution count 9: 891.164 891.819 901.624 ... 1159.6\n",
      "\n",
      "Optimal solution found (tolerance 1.00e-04)\n",
      "Best objective 8.911640979805e+02, best bound 8.911640979805e+02, gap 0.0000%\n",
      "\n",
      "User-callback calls 29, time in user-callback 0.03 sec\n",
      "Changed value of parameter TimeLimit to 15.0\n",
      "   Prev: 10.0  Min: 0.0  Max: inf  Default: inf\n",
      "Optimal solution: 891.1640979804752\n",
      "Edges in the solution:\n",
      "[(1, 22), (2, 20), (2, 29), (3, 20), (5, 38), (6, 25), (7, 23), (8, 26), (9, 34), (12, 18), (12, 47), (13, 41), (18, 25), (21, 34), (24, 43), (27, 48), (28, 31), (33, 39), (33, 45), (38, 49), (40, 41)]\n"
     ]
    }
   ],
   "source": [
    "model.params.DualReductions = 0\n",
    "model.params.LazyConstraints = 1\n",
    "model.optimize(vrp_callback)\n",
    "#timelimit\n",
    "model.setParam(\"TimeLimit\", 15)\n",
    "#model.optimize()\n",
    "#x = model.__data\n",
    "for t in T:\n",
    "    edges = []\n",
    "    for (i,j,t2) in x:\n",
    "        if x[i,j,t].X > .5:\n",
    "            if t2 == t and i != V[0] and j != V[0]:\n",
    "                    edges.append( (i,j) )\n",
    "\n",
    "\n",
    "print (\"Optimal solution:\",model.ObjVal)\n",
    "print (\"Edges in the solution:\")\n",
    "print (sorted(edges))"
   ]
  },
  {
   "cell_type": "code",
   "execution_count": 127,
   "metadata": {},
   "outputs": [
    {
     "name": "stdout",
     "output_type": "stream",
     "text": [
      "最適距離: 891.1640979804752\n"
     ]
    }
   ],
   "source": [
    "opt = model.ObjVal\n",
    "print(f\"最適距離: {opt}\")"
   ]
  },
  {
   "cell_type": "code",
   "execution_count": 128,
   "metadata": {},
   "outputs": [
    {
     "name": "stdout",
     "output_type": "stream",
     "text": [
      "x(1,22,0) 1.0\n",
      "x(1,22,4) 1.0\n",
      "x(2,16,0) 1.0\n",
      "x(2,16,1) 1.0\n",
      "x(2,16,2) 1.0\n",
      "x(2,16,3) 1.0\n",
      "x(2,20,0) 1.0\n",
      "x(2,20,1) 1.0\n",
      "x(2,20,3) 1.0\n",
      "x(2,20,4) 1.0\n",
      "x(2,29,2) 1.0\n",
      "x(2,29,4) 1.0\n",
      "x(3,20,1) 1.0\n",
      "x(3,20,2) 1.0\n",
      "x(3,20,3) 1.0\n",
      "x(3,20,4) 1.0\n",
      "x(4,18,1) 1.0\n",
      "x(4,18,2) 1.0\n",
      "x(5,12,1) 1.0\n",
      "x(5,12,2) 1.0\n",
      "x(5,12,3) 1.0\n",
      "x(5,38,4) 1.0\n",
      "x(6,25,4) 1.0\n",
      "x(6,27,1) 1.0\n",
      "x(6,27,3) 1.0\n",
      "x(6,48,2) 1.0\n",
      "x(7,23,1) 1.0\n",
      "x(7,23,3) 1.0\n",
      "x(7,23,4) 1.0\n",
      "x(7,43,2) 1.0\n",
      "x(8,26,2) 1.0\n",
      "x(8,26,4) 1.0\n",
      "x(8,48,1) 1.0\n",
      "x(8,48,3) 1.0\n",
      "x(9,34,2) 1.0\n",
      "x(9,34,4) 1.0\n",
      "x(9,49,0) 1.0\n",
      "x(9,49,2) 1.0\n",
      "x(10,39,1) 1.0\n",
      "x(10,39,3) 1.0\n",
      "x(11,32,0) 1.0\n",
      "x(11,32,1) 1.0\n",
      "x(11,32,3) 1.0\n",
      "x(11,38,2) 1.0\n",
      "x(12,18,0) 1.0\n",
      "x(12,18,4) 1.0\n",
      "x(12,46,0) 1.0\n",
      "x(12,46,3) 1.0\n",
      "x(12,47,1) 1.0\n",
      "x(12,47,2) 1.0\n",
      "x(12,47,4) 1.0\n",
      "x(13,41,1) 1.0\n",
      "x(13,41,2) 1.0\n",
      "x(13,41,3) 1.0\n",
      "x(13,41,4) 1.0\n",
      "x(14,25,0) 1.0\n",
      "x(14,25,1) 1.0\n",
      "x(14,25,2) 1.0\n",
      "x(14,25,3) 1.0\n",
      "x(15,44,0) 1.0\n",
      "x(15,44,2) 1.0\n",
      "x(17,37,1) 1.0\n",
      "x(17,37,3) 1.0\n",
      "x(18,25,0) 1.0\n",
      "x(18,25,1) 1.0\n",
      "x(18,25,2) 1.0\n",
      "x(18,25,3) 1.0\n",
      "x(18,25,4) 1.0\n",
      "x(18,47,3) 1.0\n",
      "x(19,41,1) 1.0\n",
      "x(19,41,3) 1.0\n",
      "x(20,35,0) 1.0\n",
      "x(20,35,2) 1.0\n",
      "x(21,34,0) 1.0\n",
      "x(21,34,4) 1.0\n",
      "x(23,43,2) 1.0\n",
      "x(24,43,0) 1.0\n",
      "x(24,43,4) 1.0\n",
      "x(27,32,2) 1.0\n",
      "x(27,48,4) 1.0\n",
      "x(28,31,1) 1.0\n",
      "x(28,31,2) 1.0\n",
      "x(28,31,3) 1.0\n",
      "x(28,31,4) 1.0\n",
      "x(30,34,0) 1.0\n",
      "x(30,34,1) 1.0\n",
      "x(30,34,2) 1.0\n",
      "x(30,34,3) 1.0\n",
      "x(33,39,2) 1.0\n",
      "x(33,39,4) 1.0\n",
      "x(33,45,2) 1.0\n",
      "x(33,45,4) 1.0\n",
      "x(34,50,1) 1.0\n",
      "x(34,50,3) 1.0\n",
      "x(35,36,1) 1.0\n",
      "x(35,36,3) 1.0\n",
      "x(38,49,2) 1.0\n",
      "x(38,49,4) 1.0\n",
      "x(40,41,0) 1.0\n",
      "x(40,41,4) 1.0\n",
      "x(41,42,0) 1.0\n",
      "x(41,42,2) 1.0\n",
      "x(42,44,1) 1.0\n",
      "x(42,44,3) 1.0\n",
      "y[1,0] 0.5\n",
      "y[1,4] 0.5\n",
      "y[2,0] 1.0\n",
      "y[3,1] 0.5\n",
      "y[3,2] 0.5\n",
      "y[4,1] 0.5\n",
      "y[4,2] 0.5\n",
      "y[5,1] 0.5\n",
      "y[5,2] 0.5\n",
      "y[6,1] 0.5\n",
      "y[6,2] 0.5\n",
      "y[7,1] 0.5\n",
      "y[7,2] 0.5\n",
      "y[8,1] 0.5\n",
      "y[8,2] 0.5\n",
      "y[9,0] 0.5\n",
      "y[9,2] 0.5\n",
      "y[10,1] 0.5\n",
      "y[10,3] 0.5\n",
      "y[11,0] 0.5\n",
      "y[11,1] 0.5\n",
      "y[12,0] 1.0\n",
      "y[13,1] 0.5\n",
      "y[13,2] 0.5\n",
      "y[14,0] 0.5\n",
      "y[14,1] 0.5\n",
      "y[15,0] 0.5\n",
      "y[15,2] 0.5\n",
      "y[16,0] 0.5\n",
      "y[16,1] 0.5\n",
      "y[17,1] 0.5\n",
      "y[17,3] 0.5\n",
      "y[18,0] 1.0\n",
      "y[19,1] 0.5\n",
      "y[19,3] 0.5\n",
      "y[20,0] 1.0\n",
      "y[21,0] 0.5\n",
      "y[21,4] 0.5\n",
      "y[22,0] 0.5\n",
      "y[22,4] 0.5\n",
      "y[23,1] 0.5\n",
      "y[23,2] 0.5\n",
      "y[24,0] 0.5\n",
      "y[24,4] 0.5\n",
      "y[25,0] 1.0\n",
      "y[26,2] 0.5\n",
      "y[26,4] 0.5\n",
      "y[27,1] 0.5\n",
      "y[27,2] 0.5\n",
      "y[28,1] 0.5\n",
      "y[28,2] 0.5\n",
      "y[29,2] 0.5\n",
      "y[29,4] 0.5\n",
      "y[30,0] 0.5\n",
      "y[30,1] 0.5\n",
      "y[31,1] 0.5\n",
      "y[31,2] 0.5\n",
      "y[32,0] 0.5\n",
      "y[32,1] 0.5\n",
      "y[33,2] 1.0\n",
      "y[34,0] 1.0\n",
      "y[35,0] 0.5\n",
      "y[35,1] 0.5\n",
      "y[36,1] 0.5\n",
      "y[36,3] 0.5\n",
      "y[37,1] 0.5\n",
      "y[37,3] 0.5\n",
      "y[38,2] 1.0\n",
      "y[39,1] 0.5\n",
      "y[39,2] 0.5\n",
      "y[40,0] 0.5\n",
      "y[40,4] 0.5\n",
      "y[41,0] 1.0\n",
      "y[42,0] 0.5\n",
      "y[42,1] 0.5\n",
      "y[43,0] 0.5\n",
      "y[43,2] 0.5\n",
      "y[44,0] 0.5\n",
      "y[44,1] 0.5\n",
      "y[45,2] 0.5\n",
      "y[45,4] 0.5\n",
      "y[46,0] 0.5\n",
      "y[46,3] 0.5\n",
      "y[47,1] 0.5\n",
      "y[47,2] 0.5\n",
      "y[48,1] 0.5\n",
      "y[48,2] 0.5\n",
      "y[49,0] 0.5\n",
      "y[49,2] 0.5\n",
      "y[50,1] 0.5\n",
      "y[50,3] 0.5\n"
     ]
    }
   ],
   "source": [
    "#変数の確認\n",
    "for v in model.getVars():\n",
    "    if v.X> 0:\n",
    "        print(v.VarName, v.X)"
   ]
  },
  {
   "cell_type": "code",
   "execution_count": 125,
   "metadata": {},
   "outputs": [
    {
     "data": {
      "image/png": "[encoded data removed]",
      "text/plain": [
       "<Figure size 288x288 with 1 Axes>"
      ]
     },
     "metadata": {
      "needs_background": "light"
     },
     "output_type": "display_data"
    }
   ],
   "source": [
    "plt.figure(figsize=(4, 4))\n",
    "plt.scatter(x_y[:, 0], x_y[:, 1], c='b')\n",
    "#plt.text(x_y[:,0]+1,x_y[:,1]+1, str(V[0:]))\n",
    "plt.scatter(x_y[0][0],x_y[0][1],c=\"r\")#デポを描画\n",
    "plt.text(x_y[0][0],x_y[0][1], \"depot\")\n",
    "\n",
    "for t in T:\n",
    "    for i in V:\n",
    "        for j in V:\n",
    "            if i < j and x[i,j,t].x >= 0.9:\n",
    "                plt.plot([x_y[i][0],x_y[j][0]], [x_y[i][1], x_y[j][1]], c=\"black\")\n",
    "plt.show()"
   ]
  },
  {
   "cell_type": "markdown",
   "metadata": {},
   "source": [
    " # ルートの可視化"
   ]
  },
  {
   "cell_type": "code",
   "execution_count": 133,
   "metadata": {},
   "outputs": [
    {
     "data": {
      "image/png": "[encoded data removed]",
      "text/plain": [
       "<Figure size 432x288 with 1 Axes>"
      ]
     },
     "metadata": {
      "needs_background": "light"
     },
     "output_type": "display_data"
    }
   ],
   "source": [
    "plt.scatter(x_y[:, 0], x_y[:, 1], c='b')\n",
    "#plt.text(x_y[:,0]+1,x_y[:,1]+1, str(V[0:]))\n",
    "plt.scatter(x_y[0][0],x_y[0][1],c=\"r\")#デポを描画\n",
    "plt.text(x_y[0][0],x_y[0][1], \"depot\")\n",
    "\n",
    "for t in T:\n",
    "    if t == 0:\n",
    "        for i in V:\n",
    "            for j in V:\n",
    "                if i < j and x[i,j,t].x >= 0.9:\n",
    "                    plt.plot([x_y[i][0],x_y[j][0]], [x_y[i][1], x_y[j][1]], c=\"black\")\n",
    "plt.show()"
   ]
  },
  {
   "cell_type": "code",
   "execution_count": 63,
   "metadata": {},
   "outputs": [],
   "source": [
    "for v in model.getVars():\n",
    "    if v.X> 0 and v.VarName in y:\n",
    "        print(v.VarName, v.X)"
   ]
  },
  {
   "cell_type": "code",
   "execution_count": null,
   "metadata": {},
   "outputs": [],
   "source": []
  },
  {
   "cell_type": "code",
   "execution_count": 24,
   "metadata": {},
   "outputs": [
    {
     "name": "stdout",
     "output_type": "stream",
     "text": [
      "Changed value of parameter DualReductions to 0\n",
      "   Prev: 1  Min: 0  Max: 1  Default: 1\n",
      "Changed value of parameter LazyConstraints to 1\n",
      "   Prev: 0  Min: 0  Max: 1  Default: 0\n",
      "Gurobi Optimizer version 9.0.3 build v9.0.3rc0 (mac64)\n",
      "Optimize a model with 155 rows, 2753 columns and 5506 nonzeros\n",
      "Model fingerprint: 0xdc12c070\n",
      "Variable types: 0 continuous, 2753 integer (101 binary)\n",
      "Coefficient statistics:\n",
      "  Matrix range     [1e+00, 2e+00]\n",
      "  Objective range  [2e+00, 9e+01]\n",
      "  Bounds range     [1e+00, 2e+00]\n",
      "  RHS range        [1e+00, 6e+00]\n",
      "Presolve removed 52 rows and 102 columns\n",
      "Presolve time: 0.01s\n",
      "Presolved: 103 rows, 2651 columns, 5302 nonzeros\n",
      "Variable types: 0 continuous, 2651 integer (2550 binary)\n",
      "\n",
      "Root relaxation: objective 3.793623e+02, 159 iterations, 0.00 seconds\n",
      "\n",
      "    Nodes    |    Current Node    |     Objective Bounds      |     Work\n",
      " Expl Unexpl |  Obj  Depth IntInf | Incumbent    BestBd   Gap | It/Node Time\n",
      "\n",
      "     0     0  379.36228    0   38          -  379.36228      -     -    0s\n",
      "     0     0  431.53586    0   37          -  431.53586      -     -    0s\n",
      "     0     0  433.99520    0   76          -  433.99520      -     -    0s\n",
      "     0     0  433.99520    0   91          -  433.99520      -     -    0s\n",
      "     0     0  434.09107    0   85          -  434.09107      -     -    0s\n",
      "     0     0  434.09107    0   53          -  434.09107      -     -    0s\n",
      "     0     2  434.13459    0   76          -  434.13459      -     -    1s\n",
      "H 1040   892                     676.2234673  464.35046  31.3%  11.2    4s\n",
      "\n",
      "Cutting planes:\n",
      "  Gomory: 22\n",
      "  Cover: 58\n",
      "  Implied bound: 1\n",
      "  Clique: 4\n",
      "  MIR: 7\n",
      "  Flow cover: 18\n",
      "  Zero half: 8\n",
      "  RLT: 2\n",
      "  Relax-and-lift: 17\n",
      "  Lazy constraints: 19\n",
      "\n",
      "Explored 1040 nodes (13347 simplex iterations) in 7.92 seconds\n",
      "Thread count was 8 (of 8 available processors)\n",
      "\n",
      "Solution count 1: 676.223 \n",
      "\n",
      "Solve interrupted\n",
      "Best objective 6.762234672961e+02, best bound 4.643504613007e+02, gap 31.3318%\n",
      "\n",
      "User-callback calls 6076, time in user-callback 0.58 sec\n",
      "Optimal solution: 676.223467296088\n",
      "Edges in the solution:\n",
      "[]\n"
     ]
    }
   ],
   "source": [
    "\"\"\"import math\n",
    "import random\n",
    "import networkx\n",
    "from gurobipy import *\n",
    "\n",
    "def vrp(V,c,m,q,Q,T,P):\n",
    "    \n",
    "    def vrp_callback(model,where):\n",
    "        if where != GRB.callback.MIPSOL:#新しい解を発見した時だけ部分巡回路除去制約を追加\n",
    "            return\n",
    "        for t in T:\n",
    "            edges = []\n",
    "            for (i,j,t2) in x:\n",
    "                if model.cbGetSolution(x[i,j,t]) > .5:\n",
    "                    if t == t2 and i != V[0] and j != V[0]:\n",
    "                        edges.append( (i,j) )\n",
    "            #print(\"#############\")\n",
    "            G = networkx.Graph()\n",
    "            G.add_edges_from(edges)\n",
    "            Components = networkx.connected_components(G)\n",
    "            for S in Components:\n",
    "                S_card = len(S)\n",
    "                q_sum = sum(q[i] for i in S)\n",
    "                NS = int(math.ceil(float(q_sum)/Q))\n",
    "                S_edges = [(i,j) \n",
    "                           for i in S \n",
    "                           for j in S\n",
    "                           if i<j and (i,j) in edges]\n",
    "                if S_card >= 3 and (len(S_edges) >= S_card or NS > 1):\n",
    "                    model.cbLazy(quicksum(x[i,j,t]\n",
    "                                          for i in S \n",
    "                                          for j in S \n",
    "                                          for t in T \n",
    "                                          if j > i) <= S_card-NS)\n",
    "                    #print (\"adding cut for\" , S_edges)\n",
    "        return\n",
    "\n",
    "\n",
    "    model = Model(\"vrp\")\n",
    "    \n",
    "    #変数\n",
    "    \n",
    "    x = {}\n",
    "    for i in V:\n",
    "        for j in V:\n",
    "            for t in T:\n",
    "                if j > i and i == V[0]:\n",
    "                    x[i,j,t] = model.addVar(ub=2, vtype=\"I\", name=\"x(%s,%s,%s)\"%(i,j,t))\n",
    "                elif j > i:\n",
    "                    x[i,j,t] = model.addVar(ub=1, vtype=\"I\", name=\"x(%s,%s,%s)\"%(i,j,t))\n",
    "\n",
    "    #print(x)\n",
    "    y = {}\n",
    "    for i in V:\n",
    "        for p in P[i]:\n",
    "            y[i,p] = model.addVar(vtype=\"B\",name = f\"y[{i},{p}]\")\n",
    "    #print(y)\n",
    "    model.update()\n",
    "    \n",
    "    #制約\n",
    "    \n",
    "    #トラックがデポから出発する制約\n",
    "    for t in T:\n",
    "        model.addConstr(quicksum(x[V[0],j,t] for j in V[1:]) <= 2*m )\n",
    "        \n",
    "    #必ず一台の車両により顧客へのサービスが行われる割り当て制約\n",
    "    for i in V[1:]:\n",
    "        for t in T:\n",
    "            model.addConstr(quicksum(x[j,i,t] for j in V if j < i) +\n",
    "                            quicksum(x[i,j,t] for j in V if j > i) == \n",
    "                            2 * quicksum(a[i][p][t]* y[i,p]for p in P[i]))\n",
    "            \n",
    "    #必ず全ての顧客を回る制約\n",
    "    for i in V[1:]:\n",
    "        model.addConstr(quicksum(y[i,p] for p in P[i]) == 1)\n",
    "        \n",
    "    model.update()\n",
    "    \n",
    "    #目的関数\n",
    "    model.setObjective(quicksum(c[i,j]*x[i,j,t] \n",
    "                                for i in V\n",
    "                                for j in V \n",
    "                                for t in T\n",
    "                                if j>i), GRB.MINIMIZE)\n",
    "\n",
    "    model.update()\n",
    "    model.__data = x\n",
    "    return model,vrp_callback\n",
    "\n",
    "\n",
    "\n",
    "    \n",
    "            \n",
    "if __name__ == \"__main__\":\n",
    "    import sys\n",
    "\n",
    "    model,vrp_callback = vrp(V,c,m,q,Q,T,P)\n",
    "\n",
    "    model.params.DualReductions = 0\n",
    "    model.params.LazyConstraints = 1\n",
    "    model.optimize(vrp_callback)\n",
    "    x = model.__data\n",
    "    \n",
    "    for t in T:\n",
    "        edges = []\n",
    "        for (i,j,t2) in x:\n",
    "            if x[i,j,t2].X > 5:\n",
    "                if t2 == t and i != V[0] and j != V[0]:\n",
    "                    edges.append( (i,j) )\n",
    "\n",
    "    print (\"Optimal solution:\",model.ObjVal)\n",
    "    print (\"Edges in the solution:\")\n",
    "    print (sorted(edges))"
   ]
  },
  {
   "cell_type": "code",
   "execution_count": null,
   "metadata": {},
   "outputs": [],
   "source": []
  },
  {
   "cell_type": "code",
   "execution_count": null,
   "metadata": {},
   "outputs": [],
   "source": []
  }
 ],
 "metadata": {
  "kernelspec": {
   "display_name": "Python 3",
   "language": "python",
   "name": "python3"
  },
  "language_info": {
   "codemirror_mode": {
    "name": "ipython",
    "version": 3
   },
   "file_extension": ".py",
   "mimetype": "text/x-python",
   "name": "python",
   "nbconvert_exporter": "python",
   "pygments_lexer": "ipython3",
   "version": "3.6.10"
  }
 },
 "nbformat": 4,
 "nbformat_minor": 4
}
