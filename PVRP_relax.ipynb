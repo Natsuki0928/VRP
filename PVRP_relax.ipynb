{
 "cells": [
  {
   "cell_type": "markdown",
   "metadata": {
    "slideshow": {
     "slide_type": "-"
    }
   },
   "source": [
    " # PVRP"
   ]
  },
  {
   "cell_type": "markdown",
   "metadata": {},
   "source": [
    "従来のVRPでは、通常、計画期間は1日です。 Period Vehicle Routing Problem（PVRP）の場合、従来のVRPは計画期間をM日まで延長することにより一般化されます。\n",
    "\n",
    "目的：目的は、車両群とすべての顧客に供給するために必要な移動時間の合計を最小限にすることです。"
   ]
  },
  {
   "cell_type": "markdown",
   "metadata": {},
   "source": [
    "### データの読み方\n",
    "index =顧客番号\n",
    "\n",
    "x = x座標\n",
    "\n",
    "y = y座標\n",
    "\n",
    "d =サービス期間\n",
    "\n",
    "q =需要\n",
    "\n",
    "f =訪問の頻度\n",
    "\n",
    "a =可能な訪問の組み合わせの数\n",
    "\n",
    "list =すべての可能な訪問の組み合わせのリスト"
   ]
  },
  {
   "cell_type": "markdown",
   "metadata": {},
   "source": [
    " ## 定式化"
   ]
  },
  {
   "cell_type": "markdown",
   "metadata": {},
   "source": [
    "$$\n",
    "minimize \\sum_{ij}^{}c_{ij}x_{ijt} \\quad　(i<j)\n",
    "$$\n",
    "\n",
    "$$\n",
    "s. t \\sum_{j}^{}x_{0jt}\\quad <= 2m   \\quad\\forall{t}\\in{T})\n",
    "$$\n",
    "\n",
    "$$\n",
    " \\sum_{i}^{}x_{ijt}+\\sum_{j}^{}x_{jit} = 2\\sum_{p}a_{ipt}y_{ip}(\\forall{i,t}\\in{N,T})\n",
    "$$\n",
    "\n",
    "$$\n",
    "\\sum_{i}^{}y_{ip}\\quad = 1 \\quad \\forall{}\n",
    "$$"
   ]
  },
  {
   "cell_type": "markdown",
   "metadata": {},
   "source": [
    " ### ●目的\n",
    " 移動時間の合計（コスト）を最小化\n"
   ]
  },
  {
   "cell_type": "markdown",
   "metadata": {},
   "source": [
    " ### ●制約\n",
    "点０からでる枝の数は２m本\n",
    "\n",
    "必ず１度は全ての点を通る\n",
    "\n",
    "必ずパターンのどれか一つを選ぶ\n",
    "\n",
    "部分閉路禁止"
   ]
  },
  {
   "cell_type": "markdown",
   "metadata": {},
   "source": [
    " ### ●変数\n",
    "**$C_{ij}$:点iから点jに移動するときの費用**\n",
    "\n",
    "**$x_{ijt}$:運搬車が点iから点jにt日に移動する回数を表す変数**\n",
    "\n",
    "**$y_{ip}$:どのパターン（p）で点iに訪れるか**\n",
    "\n",
    "＊mは車両数"
   ]
  },
  {
   "cell_type": "markdown",
   "metadata": {},
   "source": [
    "## 必要なライブラリのインポート "
   ]
  },
  {
   "cell_type": "code",
   "execution_count": 2,
   "metadata": {},
   "outputs": [],
   "source": [
    "import pandas as pd\n",
    "import numpy as np\n",
    "import matplotlib.pyplot as plt\n",
    "%matplotlib inline\n",
    "import networkx"
   ]
  },
  {
   "cell_type": "code",
   "execution_count": 3,
   "metadata": {},
   "outputs": [
    {
     "name": "stdout",
     "output_type": "stream",
     "text": [
      "\n"
     ]
    }
   ],
   "source": [
    "f = open(\"c-pvrp/p01\").read()\n",
    "print()\n",
    "L = [tuple(map(int , i.split())) for i in f.split(\"\\n\") if i != \"\"]\n",
    "#for i in L:\n",
    "#    if i in \" \":\n",
    "#        L.remove(i)      \n",
    "#print(L)\n",
    "m = int(L[0][1])\n",
    "#K = [k for k in range(1,int(L[0][1])+1)] #トラックの集合\n",
    "#N = [i for i in range(int(L[0][2])+1)] #デポと顧客の集合\n",
    "#T = [t for t in range(1,int(L[0][3])+1)]#days\n",
    "T = [t for t in range(int(L[0][3]))]"
   ]
  },
  {
   "cell_type": "code",
   "execution_count": 4,
   "metadata": {},
   "outputs": [],
   "source": [
    "V, x_y , d  , qq, f , al , li = [] , [] , [] , [] , [] , [] , []\n",
    "day = L[0][3]\n",
    "#Q = L[1][1]\n",
    "Q = 250\n",
    "depo = L[day+1][1:3]\n",
    "pat = [()]\n",
    "for i in range(day+1,len(L)):\n",
    "    V.append(int(L[i][0]))#デポと顧客の集合\n",
    "    x_y.append((int(L[i][1]),int(L[i][2])))\n",
    "    d.append(int(L[i][3])) #サービス期間\n",
    "    qq.append(int(L[i][4])) #顧客ごとの需要\n",
    "    f.append(int(L[i][5])) #訪問頻度\n",
    "    al.append(int(L[i][6])) #訪問パターンの総数\n",
    "    li.append(tuple(L[i][7:]))  "
   ]
  },
  {
   "cell_type": "code",
   "execution_count": 5,
   "metadata": {},
   "outputs": [],
   "source": [
    "#コスト\n",
    "c = {}\n",
    "for i in range(len(x_y)):\n",
    "    n = 1\n",
    "    while i+n < len(x_y):\n",
    "        di = np.sqrt((x_y[i][0] - x_y[i+n][0])**2 + (x_y[i][1] - x_y[i+n][1])**2 )\n",
    "        c[i,i+n] = di\n",
    "        n += 1"
   ]
  },
  {
   "cell_type": "code",
   "execution_count": 6,
   "metadata": {},
   "outputs": [],
   "source": [
    "q = {}\n",
    "for i in V:\n",
    "    q[i] = qq[i]"
   ]
  },
  {
   "cell_type": "markdown",
   "metadata": {},
   "source": [
    "liリストは配達パターン。二進数から１０進数へ変換されている\n",
    "\n",
    "1日目に配達するなら10で2\n",
    "\n",
    "2日目に配達するなら01で1"
   ]
  },
  {
   "cell_type": "code",
   "execution_count": 7,
   "metadata": {},
   "outputs": [],
   "source": [
    "pat = []\n",
    "for i in range(1,len(li)):\n",
    "    ll = []\n",
    "    for j in range(len(li[i])):\n",
    "        ll.append((format(li[i][j],'b').zfill(day)))\n",
    "    pat.append(ll)"
   ]
  },
  {
   "cell_type": "code",
   "execution_count": 8,
   "metadata": {},
   "outputs": [],
   "source": [
    "a = [()]\n",
    "P = [()]\n",
    "for i1 in pat:\n",
    "    ml = []\n",
    "    for i2 in i1[::-1]:\n",
    "        ll = []\n",
    "        for i3 in i2:\n",
    "            ll.append(int(i3))\n",
    "        ml.append(ll)\n",
    "    patdata = np.array(ml)\n",
    "    n_pat = [i for i in range(len(patdata))]\n",
    "    #print(patdata)\n",
    "    a.append(patdata)\n",
    "    P.append(n_pat)"
   ]
  },
  {
   "cell_type": "markdown",
   "metadata": {},
   "source": [
    " # デポと顧客位置の可視化"
   ]
  },
  {
   "cell_type": "code",
   "execution_count": 9,
   "metadata": {},
   "outputs": [
    {
     "name": "stdout",
     "output_type": "stream",
     "text": [
      "[[ 0. 14. 21. 33. 17. 14. 11. 26. 22. 23.]\n",
      " [14.  0. 12. 19. 31. 22. 17. 23. 12. 24.]\n",
      " [21. 12.  0. 15. 37. 21. 28. 35. 22. 16.]\n",
      " [33. 19. 15.  0. 50. 36. 35. 35. 21. 31.]\n",
      " [17. 31. 37. 50.  0. 20. 21. 37. 38. 33.]\n",
      " [14. 22. 21. 36. 20.  0. 25. 40. 33. 12.]\n",
      " [11. 17. 28. 35. 21. 25.  0. 16. 18. 34.]\n",
      " [26. 23. 35. 35. 37. 40. 16.  0. 14. 46.]\n",
      " [22. 12. 22. 21. 38. 33. 18. 14.  0. 36.]\n",
      " [23. 24. 16. 31. 33. 12. 34. 46. 36.  0.]]\n"
     ]
    }
   ],
   "source": [
    "import numpy as np\n",
    "x_y = np.array(x_y)\n",
    "x = x_y[:, 0]\n",
    "y = x_y[:, 1]\n",
    "distance = np.sqrt((x[:, np.newaxis] - x[np.newaxis, :]) ** 2 +(y[:, np.newaxis] - y[np.newaxis, :]) ** 2)\n",
    "# distance[i, j]が都市iと都市jの距離。10個だけ\n",
    "print(np.round(distance[:10, :10]))"
   ]
  },
  {
   "cell_type": "code",
   "execution_count": 10,
   "metadata": {},
   "outputs": [
    {
     "data": {
      "image/png": "[encoded data removed]",
      "text/plain": [
       "<Figure size 432x288 with 1 Axes>"
      ]
     },
     "metadata": {
      "needs_background": "light"
     },
     "output_type": "display_data"
    }
   ],
   "source": [
    "plt.plot(x_y[:, 0], x_y[:, 1], 'o')#\"o\"は小さい点\n",
    "plt.plot(x_y[0][0],x_y[0][1],\"ro\")#デポを描画\n",
    "plt.text(x_y[0][0],x_y[0][1], \"depot\")\n",
    "plt.show()"
   ]
  },
  {
   "cell_type": "markdown",
   "metadata": {},
   "source": [
    "# gurobiでとく"
   ]
  },
  {
   "cell_type": "code",
   "execution_count": 11,
   "metadata": {},
   "outputs": [],
   "source": [
    "import math\n",
    "import random\n",
    "import networkx\n",
    "from gurobipy import *"
   ]
  },
  {
   "cell_type": "code",
   "execution_count": 12,
   "metadata": {},
   "outputs": [
    {
     "name": "stdout",
     "output_type": "stream",
     "text": [
      "Academic license - for non-commercial use only\n"
     ]
    }
   ],
   "source": [
    "model = Model(\"pvrp\")"
   ]
  },
  {
   "cell_type": "code",
   "execution_count": 13,
   "metadata": {},
   "outputs": [],
   "source": [
    "#変数\n",
    "x = {}\n",
    "for i in V:\n",
    "    \n",
    "    for j in V:\n",
    "        for t in T:\n",
    "            if j > i and i == V[0]:       # depot\n",
    "                x[i,j,t] = model.addVar(ub=2, vtype=\"I\", name=\"x(%s,%s,%s)\"%(i,j,t))\n",
    "            elif j > i:\n",
    "                x[i,j,t] = model.addVar(ub=1, vtype=\"I\", name=\"x(%s,%s,%s)\"%(i,j,t))\n",
    "\n",
    "\n",
    "model.update()\n",
    "#for (i,j,t) in x:\n",
    "#    print(x[i,j,t])"
   ]
  },
  {
   "cell_type": "code",
   "execution_count": 23,
   "metadata": {},
   "outputs": [],
   "source": [
    "y = {}\n",
    "for i in V:\n",
    "    for p in P[i]:\n",
    "        y[i,p] = model.addVar(vtype=\"B\",name = f\"y[{i},{p}]\")\n",
    "model.update()\n",
    "#for (i,p) in y:\n",
    "#    print(y[i,p])"
   ]
  },
  {
   "cell_type": "code",
   "execution_count": 24,
   "metadata": {},
   "outputs": [],
   "source": [
    "#制約\n",
    "    \n",
    "#トラックがデポから出発する制約\n",
    "for t in T:\n",
    "    model.addConstr(quicksum(x[V[0],j,t] for j in V[1:]) <= 2*m )\n",
    "\n",
    "#必ず一台の車両により顧客へのサービスが行われる割り当て制約\n",
    "for i in V[1:]:\n",
    "    for t in T:\n",
    "        model.addConstr(quicksum(x[j,i,t] for j in V if j < i) +\n",
    "                        quicksum(x[i,j,t] for j in V if j > i) == \n",
    "                        2 * quicksum(a[i][p][t]* y[i,p]for p in P[i]))\n",
    "\n",
    "#必ず全ての顧客を回る制約\n",
    "for i in V[1:]:\n",
    "    model.addConstr(quicksum(y[i,p] for p in P[i]) == 1)\n",
    "\n",
    "model.update()"
   ]
  },
  {
   "cell_type": "code",
   "execution_count": 25,
   "metadata": {},
   "outputs": [],
   "source": [
    "def vrp_callback(model,where):\n",
    "    if where != GRB.callback.MIPSOL:#新しい解を発見した時だけ部分巡回路除去制約を追加\n",
    "        return\n",
    "    for t in T:\n",
    "        edges = []\n",
    "        for (i,j,t2) in x:\n",
    "            if model.cbGetSolution(x[i,j,t]) > .5:\n",
    "                if t == t2 and i != V[0] and j != V[0]:\n",
    "                    edges.append( (i,j) )\n",
    "        #print(\"#############\")\n",
    "        G = networkx.Graph()\n",
    "        G.add_edges_from(edges)\n",
    "        Components = networkx.connected_components(G)\n",
    "        for S in Components:\n",
    "            S_card = len(S)\n",
    "            q_sum = sum(q[i] for i in S)\n",
    "            NS = int(math.ceil(float(q_sum)/Q))\n",
    "            S_edges = [(i,j) \n",
    "                       for i in S \n",
    "                       for j in S\n",
    "                       if i<j and (i,j) in edges]\n",
    "            if S_card >= 3 and (len(S_edges) >= S_card or NS > 1):\n",
    "                model.cbLazy(quicksum(x[i,j,t]\n",
    "                                      for i in S \n",
    "                                      for j in S \n",
    "                                      for t in T \n",
    "                                      if j > i) <= S_card-NS)\n",
    "                #print (\"adding cut for\" , S_edges)\n",
    "    return"
   ]
  },
  {
   "cell_type": "code",
   "execution_count": 26,
   "metadata": {},
   "outputs": [],
   "source": [
    "#目的関数\n",
    "model.setObjective(quicksum(c[i,j]*x[i,j,t] \n",
    "                            for i in V\n",
    "                            for j in V \n",
    "                            for t in T\n",
    "                            if j>i), GRB.MINIMIZE)\n",
    "\n",
    "model.update()\n",
    "#model.__data = x"
   ]
  },
  {
   "cell_type": "code",
   "execution_count": 27,
   "metadata": {},
   "outputs": [
    {
     "name": "stdout",
     "output_type": "stream",
     "text": [
      "Parameter DualReductions unchanged\n",
      "   Value: 0  Min: 0  Max: 1  Default: 1\n",
      "Parameter LazyConstraints unchanged\n",
      "   Value: 1  Min: 0  Max: 1  Default: 0\n",
      "Optimize a model with 310 rows, 2854 columns and 11012 nonzeros\n",
      "Variable types: 0 continuous, 2753 integer (101 binary)\n",
      "Semi-Variable types: 101 continuous, 0 integer\n",
      "Coefficient statistics:\n",
      "  Matrix range     [1e+00, 2e+00]\n",
      "  Objective range  [2e+00, 9e+01]\n",
      "  Bounds range     [1e+00, 2e+00]\n",
      "  RHS range        [1e+00, 6e+00]\n",
      "\n",
      "MIP start did not produce a new incumbent solution\n",
      "\n",
      "Presolve removed 207 rows and 203 columns\n",
      "Presolve time: 0.04s\n",
      "Presolved: 103 rows, 2651 columns, 5302 nonzeros\n",
      "Variable types: 0 continuous, 2651 integer (2550 binary)\n",
      "\n",
      "Root relaxation: objective 3.793623e+02, 159 iterations, 0.01 seconds\n",
      "\n",
      "    Nodes    |    Current Node    |     Objective Bounds      |     Work\n",
      " Expl Unexpl |  Obj  Depth IntInf | Incumbent    BestBd   Gap | It/Node Time\n",
      "\n",
      "     0     0  379.36228    0   38          -  379.36228      -     -    0s\n",
      "     0     0  437.38386    0   38          -  437.38386      -     -    0s\n",
      "     0     0  438.57358    0   31          -  438.57358      -     -    0s\n",
      "     0     0  438.57358    0   40          -  438.57358      -     -    0s\n",
      "     0     0  438.57358    0   47          -  438.57358      -     -    0s\n",
      "     0     0  438.57358    0   37          -  438.57358      -     -    0s\n",
      "     0     2  438.70079    0   55          -  438.70079      -     -    2s\n",
      "   746   678  454.92792   40   56          -  440.92346      -   8.7    5s\n",
      "   769   694  443.76694    4   72          -  443.76694      -   8.5   10s\n",
      "   792   710  516.74196   61  114          -  444.27874      -  12.6   15s\n",
      "   809   721  511.54713   71   97          -  444.98455      -  12.3   20s\n",
      "H  810   685                     526.8340700  445.20881  15.5%  12.3   21s\n",
      "   811   686  472.90555   46   82  526.83407  445.20881  15.5%  12.3   30s\n",
      "   825   695  464.36413    6   89  526.83407  464.36413  11.9%  12.1   35s\n",
      "   838   705  519.14101   77  134  526.83407  464.36413  11.9%  16.9   40s\n",
      "   846   711  464.42998   40  210  526.83407  464.42998  11.8%  16.8   45s\n",
      "   854   716  518.83161   66  133  526.83407  465.37271  11.7%  16.6   50s\n",
      "   861   721  466.05116   11  207  526.83407  466.05116  11.5%  16.5   55s\n",
      "   869   726  466.07793    4  207  526.83407  466.07793  11.5%  16.3   61s\n",
      "   877   731  526.83407  101  184  526.83407  466.16684  11.5%  16.2   65s\n",
      "   885   737  466.36935   30  208  526.83407  466.19407  11.5%  16.0   70s\n",
      "   896   746  522.98811   63  222  526.83407  466.19407  11.5%  21.4   75s\n",
      "   905   752  466.26217   29  191  526.83407  466.26217  11.5%  21.2   80s\n",
      "   916   759  466.26217   16  228  526.83407  466.26217  11.5%  21.0   85s\n",
      "   930   770  466.26217   42  246  526.83407  466.26217  11.5%  23.2   90s\n",
      "   938   775  519.14101   77  244  526.83407  466.26217  11.5%  23.0   95s\n",
      "   946   784  467.14470   67  179  526.83407  466.69571  11.4%  25.5  100s\n",
      "  2408  1526  486.31346  104   27  526.83407  467.23837  11.3%  19.9  105s\n",
      "  2925  1756  481.81897  114   96  526.83407  467.25450  11.3%  19.2  111s\n",
      "  3851  2357  474.36728  100   77  526.83407  467.28700  11.3%  18.7  115s\n",
      "  4784  3159  489.08915  121  150  526.83407  467.39386  11.3%  18.5  120s\n",
      "  5604  3816  511.91726  113   41  526.83407  467.41369  11.3%  18.1  125s\n",
      "\n",
      "Cutting planes:\n",
      "  Gomory: 44\n",
      "  Cover: 74\n",
      "  Clique: 13\n",
      "  MIR: 8\n",
      "  Flow cover: 47\n",
      "  Zero half: 20\n",
      "  Lazy constraints: 391\n",
      "\n",
      "Explored 6055 nodes (108550 simplex iterations) in 126.51 seconds\n",
      "Thread count was 4 (of 4 available processors)\n",
      "\n",
      "Solution count 1: 526.834 \n",
      "\n",
      "Solve interrupted\n",
      "Best objective 5.268340700369e+02, best bound 4.674624557008e+02, gap 11.2695%\n",
      "Parameter Timelimit unchanged\n",
      "   Value: 3600.0  Min: 0.0  Max: 1e+100  Default: 1e+100\n",
      "Optimal solution: 526.8340700368814\n",
      "Edges in the solution:\n",
      "[(1, 22), (1, 32), (3, 28), (3, 36), (6, 27), (6, 48), (7, 23), (7, 43), (8, 22), (8, 26), (13, 25), (13, 41), (14, 24), (14, 25), (19, 40), (19, 42), (20, 29), (20, 35), (21, 29), (21, 34), (23, 48), (24, 43), (26, 31), (28, 31), (30, 34), (35, 36), (40, 41), (42, 44)]\n"
     ]
    }
   ],
   "source": [
    "model.params.DualReductions = 0\n",
    "model.params.LazyConstraints = 1\n",
    "model.optimize(vrp_callback)\n",
    "model.Params.Timelimit = 3600\n",
    "#model.optimize()\n",
    "#x = model.__data\n",
    "for t in T:\n",
    "    edges = []\n",
    "    for (i,j,t2) in x:\n",
    "        if x[i,j,t].X > .5:\n",
    "            if t2 == t and i != V[0] and j != V[0]:\n",
    "                    edges.append( (i,j) )\n",
    "\n",
    "\n",
    "print (\"Optimal solution:\",model.ObjVal)\n",
    "print (\"Edges in the solution:\")\n",
    "print (sorted(edges))"
   ]
  },
  {
   "cell_type": "code",
   "execution_count": 29,
   "metadata": {},
   "outputs": [
    {
     "name": "stdout",
     "output_type": "stream",
     "text": [
      "最適距離: 526.8340700368814\n"
     ]
    }
   ],
   "source": [
    "opt = model.ObjVal\n",
    "print(f\"最適距離: {opt}\")"
   ]
  },
  {
   "cell_type": "code",
   "execution_count": 30,
   "metadata": {},
   "outputs": [
    {
     "name": "stdout",
     "output_type": "stream",
     "text": [
      "x(0,2,0) 1.0\n",
      "x(0,10,0) 1.0\n",
      "x(0,12,0) 1.0\n",
      "x(0,27,1) 1.0\n",
      "x(0,30,1) 1.0\n",
      "x(0,32,1) 1.0\n",
      "x(0,44,1) 1.0\n",
      "x(0,46,0) 1.0\n",
      "x(0,51,0) 2.0\n",
      "x(1,22,1) 1.0\n",
      "x(1,32,1) 1.0\n",
      "x(2,16,0) 1.0\n",
      "x(3,28,1) 1.0\n",
      "x(3,36,1) 1.0\n",
      "x(4,17,0) 1.0\n",
      "x(4,18,0) 1.0\n",
      "x(5,38,0) 1.0\n",
      "x(5,49,0) 1.0\n",
      "x(6,27,1) 1.0\n",
      "x(6,48,1) 1.0\n",
      "x(7,23,1) 1.0\n",
      "x(7,43,1) 1.0\n",
      "x(8,22,1) 1.0\n",
      "x(8,26,1) 1.0\n",
      "x(9,49,0) 1.0\n",
      "x(9,50,0) 1.0\n",
      "x(10,39,0) 1.0\n",
      "x(11,38,0) 1.0\n",
      "x(11,46,0) 1.0\n",
      "x(12,47,0) 1.0\n",
      "x(13,25,1) 1.0\n",
      "x(13,41,1) 1.0\n",
      "x(14,24,1) 1.0\n",
      "x(14,25,1) 1.0\n",
      "x(15,37,0) 1.0\n",
      "x(15,45,0) 1.0\n",
      "x(16,50,0) 1.0\n",
      "x(17,37,0) 1.0\n",
      "x(18,47,0) 1.0\n",
      "x(19,40,1) 1.0\n",
      "x(19,42,1) 1.0\n",
      "x(20,29,1) 1.0\n",
      "x(20,35,1) 1.0\n",
      "x(21,29,1) 1.0\n",
      "x(21,34,1) 1.0\n",
      "x(23,48,1) 1.0\n",
      "x(24,43,1) 1.0\n",
      "x(26,31,1) 1.0\n",
      "x(28,31,1) 1.0\n",
      "x(30,34,1) 1.0\n",
      "x(33,39,0) 1.0\n",
      "x(33,45,0) 1.0\n",
      "x(35,36,1) 1.0\n",
      "x(40,41,1) 1.0\n",
      "x(42,44,1) 1.0\n",
      "y[1,1] 1.0\n",
      "y[2,0] 1.0\n",
      "y[3,1] 1.0\n",
      "y[4,0] 1.0\n",
      "y[5,0] 1.0\n",
      "y[6,1] 1.0\n",
      "y[7,1] 1.0\n",
      "y[8,1] 1.0\n",
      "y[9,0] 1.0\n",
      "y[10,0] 1.0\n",
      "y[11,0] 1.0\n",
      "y[12,0] 1.0\n",
      "y[13,1] 1.0\n",
      "y[14,1] 1.0\n",
      "y[15,0] 1.0\n",
      "y[16,0] 1.0\n",
      "y[17,0] 1.0\n",
      "y[18,0] 1.0\n",
      "y[19,1] 1.0\n",
      "y[20,1] 1.0\n",
      "y[21,1] 1.0\n",
      "y[22,1] 1.0\n",
      "y[23,1] 1.0\n",
      "y[24,1] 1.0\n",
      "y[25,1] 1.0\n",
      "y[26,1] 1.0\n",
      "y[27,1] 1.0\n",
      "y[28,1] 1.0\n",
      "y[29,1] 1.0\n",
      "y[30,1] 1.0\n",
      "y[31,1] 1.0\n",
      "y[32,1] 1.0\n",
      "y[33,0] 1.0\n",
      "y[34,1] 1.0\n",
      "y[35,1] 1.0\n",
      "y[36,1] 1.0\n",
      "y[37,0] 1.0\n",
      "y[38,0] 1.0\n",
      "y[39,0] 1.0\n",
      "y[40,1] 1.0\n",
      "y[41,1] 1.0\n",
      "y[42,1] 1.0\n",
      "y[43,1] 1.0\n",
      "y[44,1] 1.0\n",
      "y[45,0] 1.0\n",
      "y[46,0] 1.0\n",
      "y[47,0] 1.0\n",
      "y[48,1] 1.0\n",
      "y[49,0] 1.0\n",
      "y[50,0] 1.0\n",
      "y[51,0] 1.0\n",
      "y[1,1] 1.0\n",
      "y[2,0] 1.0\n",
      "y[3,1] 1.0\n",
      "y[4,0] 1.0\n",
      "y[5,0] 1.0\n",
      "y[6,1] 1.0\n",
      "y[7,1] 1.0\n",
      "y[8,1] 1.0\n",
      "y[9,0] 1.0\n",
      "y[10,0] 1.0\n",
      "y[11,0] 1.0\n",
      "y[12,0] 1.0\n",
      "y[13,1] 1.0\n",
      "y[14,1] 1.0\n",
      "y[15,0] 1.0\n",
      "y[16,0] 1.0\n",
      "y[17,0] 1.0\n",
      "y[18,0] 1.0\n",
      "y[19,1] 1.0\n",
      "y[20,1] 1.0\n",
      "y[21,1] 1.0\n",
      "y[22,1] 1.0\n",
      "y[23,1] 1.0\n",
      "y[24,1] 1.0\n",
      "y[25,1] 1.0\n",
      "y[26,1] 1.0\n",
      "y[27,1] 1.0\n",
      "y[28,1] 1.0\n",
      "y[29,1] 1.0\n",
      "y[30,1] 1.0\n",
      "y[31,1] 1.0\n",
      "y[32,1] 1.0\n",
      "y[33,0] 1.0\n",
      "y[34,1] 1.0\n",
      "y[35,1] 1.0\n",
      "y[36,1] 1.0\n",
      "y[37,0] 1.0\n",
      "y[38,0] 1.0\n",
      "y[39,0] 1.0\n",
      "y[40,1] 1.0\n",
      "y[41,1] 1.0\n",
      "y[42,1] 1.0\n",
      "y[43,1] 1.0\n",
      "y[44,1] 1.0\n",
      "y[45,0] 1.0\n",
      "y[46,0] 1.0\n",
      "y[47,0] 1.0\n",
      "y[48,1] 1.0\n",
      "y[49,0] 1.0\n",
      "y[50,0] 1.0\n",
      "y[51,0] 1.0\n"
     ]
    }
   ],
   "source": [
    "#変数の確認\n",
    "for v in model.getVars():\n",
    "    if v.X> 0:\n",
    "        print(v.VarName, v.X)"
   ]
  },
  {
   "cell_type": "code",
   "execution_count": 31,
   "metadata": {},
   "outputs": [
    {
     "data": {
      "image/png": "[encoded data removed]",
      "text/plain": [
       "<Figure size 288x288 with 1 Axes>"
      ]
     },
     "metadata": {
      "needs_background": "light"
     },
     "output_type": "display_data"
    }
   ],
   "source": [
    "plt.figure(figsize=(4, 4))\n",
    "plt.scatter(x_y[:, 0], x_y[:, 1], c='b')\n",
    "#plt.text(x_y[:,0]+1,x_y[:,1]+1, str(V[0:]))\n",
    "plt.scatter(x_y[0][0],x_y[0][1],c=\"r\")#デポを描画\n",
    "plt.text(x_y[0][0],x_y[0][1], \"depot\")\n",
    "\n",
    "for t in T:\n",
    "    for i in V:\n",
    "        for j in V:\n",
    "            if i < j and x[i,j,t].x >= 0.9:\n",
    "                plt.plot([x_y[i][0],x_y[j][0]], [x_y[i][1], x_y[j][1]], c=\"black\")\n",
    "plt.show()"
   ]
  },
  {
   "cell_type": "markdown",
   "metadata": {},
   "source": [
    " # ルートの可視化"
   ]
  },
  {
   "cell_type": "code",
   "execution_count": 32,
   "metadata": {},
   "outputs": [
    {
     "data": {
      "image/png": "[encoded data removed]",
      "text/plain": [
       "<Figure size 432x288 with 1 Axes>"
      ]
     },
     "metadata": {
      "needs_background": "light"
     },
     "output_type": "display_data"
    }
   ],
   "source": [
    "plt.scatter(x_y[:, 0], x_y[:, 1], c='b')\n",
    "#plt.text(x_y[:,0]+1,x_y[:,1]+1, str(V[0:]))\n",
    "plt.scatter(x_y[0][0],x_y[0][1],c=\"r\")#デポを描画\n",
    "plt.text(x_y[0][0],x_y[0][1], \"depot\")\n",
    "\n",
    "for t in T:\n",
    "    if t == 0:\n",
    "        for i in V:\n",
    "            for j in V:\n",
    "                if i < j and x[i,j,t].x >= 0.9:\n",
    "                    plt.plot([x_y[i][0],x_y[j][0]], [x_y[i][1], x_y[j][1]], c=\"black\")\n",
    "plt.show()"
   ]
  },
  {
   "cell_type": "code",
   "execution_count": 24,
   "metadata": {},
   "outputs": [],
   "source": [
    "for v in model.getVars():\n",
    "    if v.X> 0 and v.VarName in y:\n",
    "        print(v.VarName, v.X)"
   ]
  },
  {
   "cell_type": "code",
   "execution_count": null,
   "metadata": {},
   "outputs": [],
   "source": []
  },
  {
   "cell_type": "code",
   "execution_count": 23,
   "metadata": {},
   "outputs": [
    {
     "name": "stdout",
     "output_type": "stream",
     "text": [
      "Changed value of parameter DualReductions to 0\n",
      "   Prev: 1  Min: 0  Max: 1  Default: 1\n",
      "Changed value of parameter LazyConstraints to 1\n",
      "   Prev: 0  Min: 0  Max: 1  Default: 0\n",
      "Optimize a model with 155 rows, 2753 columns and 5506 nonzeros\n",
      "Variable types: 0 continuous, 2753 integer (101 binary)\n",
      "Coefficient statistics:\n",
      "  Matrix range     [1e+00, 2e+00]\n",
      "  Objective range  [2e+00, 9e+01]\n",
      "  Bounds range     [1e+00, 2e+00]\n",
      "  RHS range        [1e+00, 6e+00]\n",
      "Presolve removed 52 rows and 102 columns\n",
      "Presolve time: 0.02s\n",
      "Presolved: 103 rows, 2651 columns, 5302 nonzeros\n",
      "Variable types: 0 continuous, 2651 integer (2550 binary)\n",
      "\n",
      "Root relaxation: objective 3.793623e+02, 159 iterations, 0.00 seconds\n",
      "\n",
      "    Nodes    |    Current Node    |     Objective Bounds      |     Work\n",
      " Expl Unexpl |  Obj  Depth IntInf | Incumbent    BestBd   Gap | It/Node Time\n",
      "\n",
      "     0     0  379.36228    0   38          -  379.36228      -     -    0s\n",
      "     0     0  443.09979    0   33          -  443.09979      -     -    0s\n",
      "     0     0  449.93366    0   68          -  449.93366      -     -    0s\n",
      "     0     0  450.00946    0   89          -  450.00946      -     -    0s\n",
      "     0     0  450.00946    0   33          -  450.00946      -     -    0s\n",
      "     0     2  456.40943    0   59          -  456.40943      -     -    1s\n",
      "   728   649  574.60292   54   61          -  479.08707      -  13.9    5s\n",
      "   760   670  547.39730   59  127          -  484.78006      -  13.3   10s\n",
      "   807   703  494.83000   17  117          -  487.60646      -  16.0   15s\n",
      "   844   729  541.86792   55   94          -  488.23577      -  20.1   20s\n",
      "\n",
      "Cutting planes:\n",
      "  Gomory: 17\n",
      "  Cover: 53\n",
      "  Clique: 13\n",
      "  MIR: 5\n",
      "  Flow cover: 43\n",
      "  Zero half: 1\n",
      "  Lazy constraints: 20\n",
      "\n",
      "Explored 851 nodes (18887 simplex iterations) in 23.69 seconds\n",
      "Thread count was 4 (of 4 available processors)\n",
      "\n",
      "Solution count 0\n",
      "\n",
      "Solve interrupted\n",
      "Best objective -, best bound 4.884358608268e+02, gap -\n"
     ]
    },
    {
     "ename": "AttributeError",
     "evalue": "b\"Unable to retrieve attribute 'X'\"",
     "output_type": "error",
     "traceback": [
      "\u001b[0;31m---------------------------------------------------------------------------\u001b[0m",
      "\u001b[0;31mAttributeError\u001b[0m                            Traceback (most recent call last)",
      "\u001b[0;32m<ipython-input-23-797e4f98dc7b>\u001b[0m in \u001b[0;36m<module>\u001b[0;34m\u001b[0m\n\u001b[1;32m    105\u001b[0m         \u001b[0medges\u001b[0m \u001b[0;34m=\u001b[0m \u001b[0;34m[\u001b[0m\u001b[0;34m]\u001b[0m\u001b[0;34m\u001b[0m\u001b[0;34m\u001b[0m\u001b[0m\n\u001b[1;32m    106\u001b[0m         \u001b[0;32mfor\u001b[0m \u001b[0;34m(\u001b[0m\u001b[0mi\u001b[0m\u001b[0;34m,\u001b[0m\u001b[0mj\u001b[0m\u001b[0;34m,\u001b[0m\u001b[0mt2\u001b[0m\u001b[0;34m)\u001b[0m \u001b[0;32min\u001b[0m \u001b[0mx\u001b[0m\u001b[0;34m:\u001b[0m\u001b[0;34m\u001b[0m\u001b[0;34m\u001b[0m\u001b[0m\n\u001b[0;32m--> 107\u001b[0;31m             \u001b[0;32mif\u001b[0m \u001b[0mx\u001b[0m\u001b[0;34m[\u001b[0m\u001b[0mi\u001b[0m\u001b[0;34m,\u001b[0m\u001b[0mj\u001b[0m\u001b[0;34m,\u001b[0m\u001b[0mt2\u001b[0m\u001b[0;34m]\u001b[0m\u001b[0;34m.\u001b[0m\u001b[0mX\u001b[0m \u001b[0;34m>\u001b[0m \u001b[0;36m5\u001b[0m\u001b[0;34m:\u001b[0m\u001b[0;34m\u001b[0m\u001b[0;34m\u001b[0m\u001b[0m\n\u001b[0m\u001b[1;32m    108\u001b[0m                 \u001b[0;32mif\u001b[0m \u001b[0mt2\u001b[0m \u001b[0;34m==\u001b[0m \u001b[0mt\u001b[0m \u001b[0;32mand\u001b[0m \u001b[0mi\u001b[0m \u001b[0;34m!=\u001b[0m \u001b[0mV\u001b[0m\u001b[0;34m[\u001b[0m\u001b[0;36m0\u001b[0m\u001b[0;34m]\u001b[0m \u001b[0;32mand\u001b[0m \u001b[0mj\u001b[0m \u001b[0;34m!=\u001b[0m \u001b[0mV\u001b[0m\u001b[0;34m[\u001b[0m\u001b[0;36m0\u001b[0m\u001b[0;34m]\u001b[0m\u001b[0;34m:\u001b[0m\u001b[0;34m\u001b[0m\u001b[0;34m\u001b[0m\u001b[0m\n\u001b[1;32m    109\u001b[0m                     \u001b[0medges\u001b[0m\u001b[0;34m.\u001b[0m\u001b[0mappend\u001b[0m\u001b[0;34m(\u001b[0m \u001b[0;34m(\u001b[0m\u001b[0mi\u001b[0m\u001b[0;34m,\u001b[0m\u001b[0mj\u001b[0m\u001b[0;34m)\u001b[0m \u001b[0;34m)\u001b[0m\u001b[0;34m\u001b[0m\u001b[0;34m\u001b[0m\u001b[0m\n",
      "\u001b[0;32mvar.pxi\u001b[0m in \u001b[0;36mgurobipy.Var.__getattr__\u001b[0;34m()\u001b[0m\n",
      "\u001b[0;32mvar.pxi\u001b[0m in \u001b[0;36mgurobipy.Var.getAttr\u001b[0;34m()\u001b[0m\n",
      "\u001b[0;31mAttributeError\u001b[0m: b\"Unable to retrieve attribute 'X'\""
     ]
    }
   ],
   "source": [
    "import math\n",
    "import random\n",
    "import networkx\n",
    "from gurobipy import *\n",
    "\n",
    "def vrp(V,c,m,q,Q,T,P):\n",
    "    \n",
    "    def vrp_callback(model,where):\n",
    "        if where != GRB.callback.MIPSOL:#新しい解を発見した時だけ部分巡回路除去制約を追加\n",
    "            return\n",
    "        for t in T:\n",
    "            edges = []\n",
    "            for (i,j,t2) in x:\n",
    "                if model.cbGetSolution(x[i,j,t]) > .5:\n",
    "                    if t == t2 and i != V[0] and j != V[0]:\n",
    "                        edges.append( (i,j) )\n",
    "            #print(\"#############\")\n",
    "            G = networkx.Graph()\n",
    "            G.add_edges_from(edges)\n",
    "            Components = networkx.connected_components(G)\n",
    "            for S in Components:\n",
    "                S_card = len(S)\n",
    "                q_sum = sum(q[i] for i in S)\n",
    "                NS = int(math.ceil(float(q_sum)/Q))\n",
    "                S_edges = [(i,j) \n",
    "                           for i in S \n",
    "                           for j in S\n",
    "                           if i<j and (i,j) in edges]\n",
    "                if S_card >= 3 and (len(S_edges) >= S_card or NS > 1):\n",
    "                    model.cbLazy(quicksum(x[i,j,t]\n",
    "                                          for i in S \n",
    "                                          for j in S \n",
    "                                          for t in T \n",
    "                                          if j > i) <= S_card-NS)\n",
    "                    #print (\"adding cut for\" , S_edges)\n",
    "        return\n",
    "\n",
    "\n",
    "    model = Model(\"vrp\")\n",
    "    \n",
    "    #変数\n",
    "    \n",
    "    x = {}\n",
    "    for i in V:\n",
    "        for j in V:\n",
    "            for t in T:\n",
    "                if j > i and i == V[0]:\n",
    "                    x[i,j,t] = model.addVar(ub=2, vtype=\"I\", name=\"x(%s,%s,%s)\"%(i,j,t))\n",
    "                elif j > i:\n",
    "                    x[i,j,t] = model.addVar(ub=1, vtype=\"I\", name=\"x(%s,%s,%s)\"%(i,j,t))\n",
    "\n",
    "    #print(x)\n",
    "    y = {}\n",
    "    for i in V:\n",
    "        for p in P[i]:\n",
    "            y[i,p] = model.addVar(vtype=\"B\",name = f\"y[{i},{p}]\")\n",
    "    #print(y)\n",
    "    model.update()\n",
    "    \n",
    "    #制約\n",
    "    \n",
    "    #トラックがデポから出発する制約\n",
    "    for t in T:\n",
    "        model.addConstr(quicksum(x[V[0],j,t] for j in V[1:]) <= 2*m )\n",
    "        \n",
    "    #必ず一台の車両により顧客へのサービスが行われる割り当て制約\n",
    "    for i in V[1:]:\n",
    "        for t in T:\n",
    "            model.addConstr(quicksum(x[j,i,t] for j in V if j < i) +\n",
    "                            quicksum(x[i,j,t] for j in V if j > i) == \n",
    "                            2 * quicksum(a[i][p][t]* y[i,p]for p in P[i]))\n",
    "            \n",
    "    #必ず全ての顧客を回る制約\n",
    "    for i in V[1:]:\n",
    "        model.addConstr(quicksum(y[i,p] for p in P[i]) == 1)\n",
    "        \n",
    "    model.update()\n",
    "    \n",
    "    #目的関数\n",
    "    model.setObjective(quicksum(c[i,j]*x[i,j,t] \n",
    "                                for i in V\n",
    "                                for j in V \n",
    "                                for t in T\n",
    "                                if j>i), GRB.MINIMIZE)\n",
    "\n",
    "    model.update()\n",
    "    model.__data = x\n",
    "    return model,vrp_callback\n",
    "\n",
    "\n",
    "\n",
    "    \n",
    "            \n",
    "if __name__ == \"__main__\":\n",
    "    import sys\n",
    "\n",
    "    model,vrp_callback = vrp(V,c,m,q,Q,T,P)\n",
    "\n",
    "    model.params.DualReductions = 0\n",
    "    model.params.LazyConstraints = 1\n",
    "    model.optimize(vrp_callback)\n",
    "    x = model.__data\n",
    "    \n",
    "    for t in T:\n",
    "        edges = []\n",
    "        for (i,j,t2) in x:\n",
    "            if x[i,j,t2].X > 5:\n",
    "                if t2 == t and i != V[0] and j != V[0]:\n",
    "                    edges.append( (i,j) )\n",
    "\n",
    "    print (\"Optimal solution:\",model.ObjVal)\n",
    "    print (\"Edges in the solution:\")\n",
    "    print (sorted(edges))"
   ]
  },
  {
   "cell_type": "code",
   "execution_count": null,
   "metadata": {},
   "outputs": [],
   "source": []
  },
  {
   "cell_type": "code",
   "execution_count": null,
   "metadata": {},
   "outputs": [],
   "source": []
  }
 ],
 "metadata": {
  "kernelspec": {
   "display_name": "Python 3",
   "language": "python",
   "name": "python3"
  },
  "language_info": {
   "codemirror_mode": {
    "name": "ipython",
    "version": 3
   },
   "file_extension": ".py",
   "mimetype": "text/x-python",
   "name": "python",
   "nbconvert_exporter": "python",
   "pygments_lexer": "ipython3",
   "version": "3.7.1"
  }
 },
 "nbformat": 4,
 "nbformat_minor": 4
}
